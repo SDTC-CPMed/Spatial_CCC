{
 "cells": [
  {
   "cell_type": "markdown",
   "id": "944aaf0b-1ec2-45dc-a57d-877c00f33bd5",
   "metadata": {},
   "source": [
    "# Enrichment analysis of GPs"
   ]
  },
  {
   "cell_type": "code",
   "execution_count": null,
   "id": "753ff1df-f336-4d6e-b020-5a30f2ca448d",
   "metadata": {},
   "outputs": [],
   "source": [
    "import os\n",
    "import csv\n",
    "import numpy as np\n",
    "import pandas as pd\n",
    "import gseapy as gp\n",
    "import matplotlib.pyplot as plt\n",
    "from tabulate import tabulate\n",
    "import re\n",
    "import seaborn as sns\n",
    "from matplotlib.colors import LogNorm"
   ]
  },
  {
   "cell_type": "markdown",
   "id": "737506db-f031-45d0-aba1-1b733dfb0750",
   "metadata": {},
   "source": [
    "# Set parameter"
   ]
  },
  {
   "cell_type": "code",
   "execution_count": null,
   "id": "4265e485-4e8b-4869-bded-fe4ba79539f9",
   "metadata": {},
   "outputs": [],
   "source": [
    "Top_n_gps = 10\n",
    "gp_compare_type = '1to1' ##'1rest' '1to1'\n",
    "gp_bayes_direction = 'up' #'down' , 'up' or 'abs'\n",
    "Top_n_ptw = 10\n",
    "\n",
    "output_path = '/Users/yelin.zhao/Library/CloudStorage/OneDrive-Personal/Projects/Spatial/Spatial_CCC/artifacts/sample_integration/Joakim_prostate_H21_H14_H15_H25_epochs400_svg2000_m6/GP_path_enrichment'\n",
    "os.makedirs(output_path, exist_ok=True)"
   ]
  },
  {
   "cell_type": "markdown",
   "id": "ca02c340-85ba-4359-8c04-c21e54b162d8",
   "metadata": {},
   "source": [
    "# Get gene list"
   ]
  },
  {
   "cell_type": "code",
   "execution_count": null,
   "id": "59311236-5fb1-49ef-89e1-5c8ee636e091",
   "metadata": {},
   "outputs": [],
   "source": [
    "if gp_compare_type == '1rest':\n",
    "    GP_per_niche = pd.read_csv('/Users/yelin.zhao/Library/CloudStorage/OneDrive-Personal/Projects/Spatial/Spatial_CCC/artifacts/sample_integration/Joakim_prostate_H21_H14_H15_H25_epochs400_svg2000_m6/figures/log_bayes_factor_2.3_GP_per_niche_results.csv', index_col = 0)\n",
    "elif gp_compare_type == '1to1':\n",
    "    GP_per_niche = pd.read_csv('/Users/yelin.zhao/Library/CloudStorage/OneDrive-Personal/Projects/Spatial/Spatial_CCC/artifacts/sample_integration/Joakim_prostate_H21_H14_H15_H25_epochs400_svg2000_m6/figures/log_bayes_factor_2.3_GP_per_comp_results.csv', index_col = 0)\n",
    "\n",
    "GP_per_niche\n"
   ]
  },
  {
   "cell_type": "code",
   "execution_count": null,
   "id": "1518624f-9c9f-47d6-a6cc-8f7d8f52840a",
   "metadata": {},
   "outputs": [],
   "source": [
    "Active_GPs_summary = pd.read_csv('/Users/yelin.zhao/Library/CloudStorage/OneDrive-Personal/Projects/Spatial/Spatial_CCC/artifacts/sample_integration/Joakim_prostate_H2_1_H1_4_H1_5_H_2_5_epochs400_svg5000_m3/figures/Active_GPs_summary.csv', index_col = 0)\n",
    "Active_GPs_summary"
   ]
  },
  {
   "cell_type": "code",
   "execution_count": null,
   "id": "648c9ca4-cc12-4e30-9931-3a096dd65f9c",
   "metadata": {
    "scrolled": true
   },
   "outputs": [],
   "source": [
    "# Extract top N GPs from each comparison\n",
    "GP_per_niche = GP_per_niche[~GP_per_niche['gene_program'].str.startswith('Add-on_')] #uncomment this line if want to exclude 'Add-on_GP'\n",
    "GP_per_niche['abs_log_bayes_factor'] = GP_per_niche['log_bayes_factor'].abs()\n",
    "if gp_bayes_direction == 'up':\n",
    "    GP_per_niche = GP_per_niche[GP_per_niche['log_bayes_factor'] > 0]\n",
    "    GP_per_niche_sorted = GP_per_niche.sort_values(by='abs_log_bayes_factor', ascending=False)\n",
    "elif gp_bayes_direction == 'down':\n",
    "    GP_per_niche = GP_per_niche[GP_per_niche['log_bayes_factor'] < 0]\n",
    "    GP_per_niche_sorted = GP_per_niche.sort_values(by='abs_log_bayes_factor', ascending=False)\n",
    "elif gp_bayes_direction == 'abs':\n",
    "    GP_per_niche_sorted = GP_per_niche.sort_values(by='abs_log_bayes_factor', ascending=False)\n",
    "\n",
    "# Group by comparison_pair and select the top 10 rows within each group\n",
    "top_df = GP_per_niche_sorted.groupby('comparison_pair').head(Top_n_gps)\n",
    "top_df = top_df.sort_values(by=['comparison_pair', 'log_bayes_factor'], ascending=[True, False])\n",
    "top_df.reset_index(drop=True, inplace=True)\n",
    "\n",
    "top_df.to_csv(f\"{output_path}/{gp_compare_type}_TopGPs_{gp_bayes_direction}.csv\", index = False)"
   ]
  },
  {
   "cell_type": "code",
   "execution_count": null,
   "id": "c1b329fa-7443-4e85-a355-c982469258e4",
   "metadata": {},
   "outputs": [],
   "source": [
    "top_df"
   ]
  },
  {
   "cell_type": "code",
   "execution_count": null,
   "id": "eb5bf919-9494-423e-8fa4-74a1ae8c3817",
   "metadata": {},
   "outputs": [],
   "source": [
    "Top_GPs_summary = pd.merge(Active_GPs_summary, top_df, left_on='gp_name', right_on='gene_program', how='inner')\n",
    "Top_GPs_summary"
   ]
  },
  {
   "cell_type": "code",
   "execution_count": null,
   "id": "f6e18a9f-7a71-4e37-a1ba-16eca0f4b4e9",
   "metadata": {},
   "outputs": [],
   "source": [
    "Top_GPs_summary = pd.merge(Active_GPs_summary, top_df, left_on='gp_name', right_on='gene_program', how='inner')\n",
    "Top_GPs_summary = Top_GPs_summary.sort_values(by=['comparison_pair', 'abs_log_bayes_factor'], ascending=[True, False])\n",
    "Top_GPs_summary.reset_index(drop=True, inplace=True)\n",
    "Top_GPs_summary"
   ]
  },
  {
   "cell_type": "markdown",
   "id": "4ae11292-7906-49da-860b-b648ea07da46",
   "metadata": {},
   "source": [
    "# Pathway Enrichment\n",
    "## Enrichment of functional pathways"
   ]
  },
  {
   "cell_type": "code",
   "execution_count": null,
   "id": "e34be9ce-d37c-40c0-a2a3-91d3fb52fb61",
   "metadata": {},
   "outputs": [],
   "source": [
    "# default: Human\n",
    "names = gp.get_library_name()\n",
    "names \n",
    "#'GWAS_Catalog_2023','UK_Biobank_GWAS_v1','GO_Biological_Process_2023', 'MSigDB_Hallmark_2020','Reactome_2022', KEGG_2021_Human IDG_Drug_Targets_2022'  'MSigDB_Oncogenic_Signatures',  'HMDB_Metabolites','Metabolomics_Workbench_Metabolites_2022',"
   ]
  },
  {
   "cell_type": "code",
   "execution_count": null,
   "id": "6295ce9b-651f-4b96-981f-14af36612b68",
   "metadata": {},
   "outputs": [],
   "source": [
    "from IPython.display import display\n",
    "\n",
    "GO_enrichemnt = list()\n",
    "for comparison_pair in Top_GPs_summary['comparison_pair'].unique():\n",
    "    print(comparison_pair)\n",
    "    \n",
    "    original_string = ''  \n",
    "    df_subset = Top_GPs_summary[Top_GPs_summary['comparison_pair'] == comparison_pair]\n",
    "    df_subset.reset_index(drop=True, inplace=True)\n",
    "    for index, row in df_subset.iterrows():\n",
    "        original_string = original_string + df_subset['gp_source_genes'][0]\n",
    "        original_string = original_string + df_subset['gp_target_genes'][0]\n",
    "    #string_list = re.findall(r\"'(.*?)'\", original_string)\n",
    "    string_list = list(set(re.findall(r\"'(.*?)'\", original_string)))  # Convert to set to remove duplicates\n",
    "    print(string_list)\n",
    "    \n",
    "    enr_KEEG = gp.enrichr(gene_list=string_list,\n",
    "                          gene_sets=['MSigDB_Hallmark_2020','KEGG_2021_Human','GO_Biological_Process_2023','Reactome_2022'],#'GO_Biological_Process_2023','MSigDB_Hallmark_2020','KEGG_2021_Human'\n",
    "                          organism='Human').results\n",
    "    #'Reactome_2022', KEGG_2021_Human IDG_Drug_Targets_2022' 'MSigDB_Hallmark_2020','MSigDB_Oncogenic_Signatures', 'Metabolomics_Workbench_Metabolites_2022',\n",
    "\n",
    "    summary = enr_KEEG[enr_KEEG['Adjusted P-value'] < 0.05][['Term', 'Adjusted P-value','Gene_set','Overlap','Genes']]\n",
    "    summary['comparison_pair'] = comparison_pair\n",
    "    \n",
    "    GO_enrichemnt.append(summary)\n"
   ]
  },
  {
   "cell_type": "code",
   "execution_count": null,
   "id": "679f40b7-e029-47bc-8968-9a7603f5b546",
   "metadata": {},
   "outputs": [],
   "source": [
    "GO_enrichemnt = pd.concat(GO_enrichemnt)\n",
    "\n",
    "# remove duplicate terms\n",
    "GO_enrichemnt= GO_enrichemnt[GO_enrichemnt['Adjusted P-value'] < 0.05]\n",
    "GO_enrichemnt = GO_enrichemnt.sort_values(by=['comparison_pair', 'Adjusted P-value'], ascending=[True, True])\n",
    "GO_enrichemnt = GO_enrichemnt.drop_duplicates(subset='Term', keep='first')  # Keep the first occurrence of each unique value in 'term'\n",
    "GO_enrichemnt.reset_index(drop=True, inplace=True)\n",
    "\n",
    "GO_enrichemnt_top = GO_enrichemnt.groupby('comparison_pair').head(Top_n_ptw)\n",
    "GO_enrichemnt_top.reset_index(drop=True, inplace=True)\n",
    "\n",
    "GO_enrichemnt.to_csv(f\"{output_path}/Pathway_enrichment_{gp_compare_type}_{gp_bayes_direction}.csv\", index = False)\n",
    "GO_enrichemnt_top.to_csv(f\"{output_path}/Pathway_enrichment_{gp_compare_type}_top{Top_n_ptw}pathway_{gp_bayes_direction}.csv\", index = False)\n"
   ]
  },
  {
   "cell_type": "code",
   "execution_count": null,
   "id": "2b4e60a3-5268-4f53-9de4-20c0a4c909ac",
   "metadata": {},
   "outputs": [],
   "source": [
    "GO_enrichemnt_top"
   ]
  },
  {
   "cell_type": "code",
   "execution_count": null,
   "id": "2769bdf2-94e1-4419-81d6-fe8d3389fb03",
   "metadata": {},
   "outputs": [],
   "source": [
    "GO_enrichemnt_top_wide = GO_enrichemnt_top.pivot(index='Term', columns='comparison_pair', values='Adjusted P-value')\n",
    "if gp_compare_type == '1to1':\n",
    "    GO_enrichemnt_top_wide = GO_enrichemnt_top_wide.reindex(columns=['1 vs 5','1 vs 2','1 vs 0','1 vs 4','1 vs 3'])#['2 vs 4','2 vs 1','2 vs 3','2 vs 0','2 vs 5']\n",
    "\n",
    "GO_enrichemnt_top_wide = GO_enrichemnt_top_wide.replace(np.nan, 1)\n",
    "GO_enrichemnt_top_wide"
   ]
  },
  {
   "cell_type": "code",
   "execution_count": null,
   "id": "cc65691b-c5e2-4496-8832-9a205183a61e",
   "metadata": {},
   "outputs": [],
   "source": [
    "import seaborn as sns\n",
    "from matplotlib.colors import LogNorm\n",
    "sns.set(font_scale=1.2)\n",
    "g = sns.clustermap(GO_enrichemnt_top_wide, norm=LogNorm(), figsize = (15,20), cmap=\"viridis_r\",\n",
    "                   row_cluster=True, col_cluster=False\n",
    "                  )\n",
    "plt.setp(g.ax_heatmap.get_xticklabels(), rotation=30)\n",
    "plt.savefig(f\"{output_path}/Enrichemnt analysis_{gp_compare_type}_top{Top_n_ptw}{gp_bayes_direction}_pathways.png\")"
   ]
  },
  {
   "cell_type": "code",
   "execution_count": null,
   "id": "0171002b-05be-4df4-8803-4a0bbe2b3653",
   "metadata": {},
   "outputs": [],
   "source": [
    "GO_enrichemnt_wide = GO_enrichemnt.pivot(index='Term', columns='comparison_pair', values='Adjusted P-value')\n",
    "\n",
    "if gp_compare_type == '1to1':\n",
    "    GO_enrichemnt_wide = GO_enrichemnt_wide.reindex(columns=['1 vs 5','1 vs 2','1 vs 0','1 vs 4','1 vs 3']) #['2 vs 4','2 vs 1','2 vs 3','2 vs 0','2 vs 5']\n",
    "\n",
    "GO_enrichemnt_wide = GO_enrichemnt_wide.replace(np.nan, 1)\n",
    "\n",
    "sns.set(font_scale=1.2)\n",
    "g = sns.clustermap(GO_enrichemnt_wide, norm=LogNorm(), figsize = (18,40), cmap=\"viridis_r\",cbar_pos=(0.1, 0.8, 0.03, 0.1),\n",
    "                   row_cluster=True, col_cluster=False)\n",
    "plt.setp(g.ax_heatmap.get_xticklabels(), rotation=30)\n",
    "plt.savefig(f\"{output_path}/Enrichemnt analysis_{gp_compare_type}_{gp_bayes_direction}_pathways.png\")"
   ]
  },
  {
   "cell_type": "code",
   "execution_count": null,
   "id": "b70192a0-00d6-44b2-8d7b-9090f9437a51",
   "metadata": {},
   "outputs": [],
   "source": [
    "GO_enrichemnt_wide"
   ]
  },
  {
   "cell_type": "markdown",
   "id": "21ae2844-eaaa-426f-abdd-13819d1ad8bb",
   "metadata": {},
   "source": [
    "## Enrichment of drug targets"
   ]
  },
  {
   "cell_type": "code",
   "execution_count": null,
   "id": "7a10b366-f794-4045-a251-52f9417098b5",
   "metadata": {},
   "outputs": [],
   "source": [
    "help(gp.enrichr)"
   ]
  },
  {
   "cell_type": "code",
   "execution_count": null,
   "id": "7fd350be-63f1-4000-ae12-161bc3937138",
   "metadata": {},
   "outputs": [],
   "source": [
    "from IPython.display import display\n",
    "\n",
    "GO_enrichemnt = list()\n",
    "for comparison_pair in Top_GPs_summary['comparison_pair'].unique():\n",
    "    print(comparison_pair)\n",
    "    \n",
    "    original_string = ''  \n",
    "    df_subset = Top_GPs_summary[Top_GPs_summary['comparison_pair'] == comparison_pair]\n",
    "    df_subset.reset_index(drop=True, inplace=True)\n",
    "    for index, row in df_subset.iterrows():\n",
    "        original_string = original_string + df_subset['gp_source_genes'][0]\n",
    "        original_string = original_string + df_subset['gp_target_genes'][0]\n",
    "    #string_list = re.findall(r\"'(.*?)'\", original_string)\n",
    "    string_list = list(set(re.findall(r\"'(.*?)'\", original_string)))  # Convert to set to remove duplicates\n",
    "    print(string_list)\n",
    "    \n",
    "    enr_KEEG = gp.enrichr(gene_list=string_list,\n",
    "                          gene_sets=['IDG_Drug_Targets_2022'],#'GO_Biological_Process_2023','MSigDB_Hallmark_2020','KEGG_2021_Human'\n",
    "                          organism='Human').results\n",
    "    #'Reactome_2022', KEGG_2021_Human IDG_Drug_Targets_2022' 'MSigDB_Hallmark_2020','MSigDB_Oncogenic_Signatures', 'Metabolomics_Workbench_Metabolites_2022',\n",
    "\n",
    "    summary = enr_KEEG[enr_KEEG['Adjusted P-value'] < 0.05][['Term', 'Adjusted P-value','Gene_set','Overlap','Genes']]\n",
    "    summary['comparison_pair'] = comparison_pair\n",
    "    \n",
    "    GO_enrichemnt.append(summary)\n",
    "\n",
    "GO_enrichemnt = pd.concat(GO_enrichemnt)\n",
    "\n",
    "# remove duplicate terms\n",
    "GO_enrichemnt= GO_enrichemnt[GO_enrichemnt['Adjusted P-value'] < 0.05]\n",
    "GO_enrichemnt = GO_enrichemnt.sort_values(by=['comparison_pair', 'Adjusted P-value'], ascending=[True, True])\n",
    "GO_enrichemnt = GO_enrichemnt.drop_duplicates(subset='Term', keep='first')  # Keep the first occurrence of each unique value in 'term'\n",
    "GO_enrichemnt.reset_index(drop=True, inplace=True)\n",
    "\n",
    "GO_enrichemnt_top = GO_enrichemnt.groupby('comparison_pair').head(Top_n_ptw)\n",
    "GO_enrichemnt_top.reset_index(drop=True, inplace=True)\n",
    "\n",
    "GO_enrichemnt.to_csv(f\"{output_path}/Enrichment_{gp_compare_type}_{gp_bayes_direction}_drugtargets.csv\", index = False)\n",
    "GO_enrichemnt_top.to_csv(f\"{output_path}/Enrichment_{gp_compare_type}_top{Top_n_ptw}pathway_{gp_bayes_direction}_drugtargets.csv\", index = False)\n",
    "\n",
    "GO_enrichemnt_top_wide = GO_enrichemnt_top.pivot(index='Term', columns='comparison_pair', values='Adjusted P-value')\n",
    "if gp_compare_type == '1to1':\n",
    "    GO_enrichemnt_top_wide = GO_enrichemnt_top_wide.reindex(columns=['1 vs 5','1 vs 2','1 vs 0','1 vs 4','1 vs 3']) #['2 vs 4','2 vs 1','2 vs 3','2 vs 0','2 vs 5']\n",
    "GO_enrichemnt_top_wide = GO_enrichemnt_top_wide.replace(np.nan, 1)\n",
    "GO_enrichemnt_top_wide\n",
    "sns.set(font_scale=1.2)\n",
    "g = sns.clustermap(GO_enrichemnt_top_wide, norm=LogNorm(), figsize = (15,20), cmap=\"viridis_r\",\n",
    "                   row_cluster=True, col_cluster=False\n",
    "                  )\n",
    "plt.setp(g.ax_heatmap.get_xticklabels(), rotation=30)\n",
    "plt.savefig(f\"{output_path}/Enrichemnt analysis_{gp_compare_type}_top{Top_n_ptw}{gp_bayes_direction}_drugtargets.png\")\n",
    "\n",
    "GO_enrichemnt_wide = GO_enrichemnt.pivot(index='Term', columns='comparison_pair', values='Adjusted P-value')\n",
    "if gp_compare_type == '1to1':\n",
    "    GO_enrichemnt_wide = GO_enrichemnt_wide.reindex(columns=['1 vs 5','1 vs 2','1 vs 0','1 vs 4','1 vs 3'])  #['2 vs 4','2 vs 1','2 vs 3','2 vs 0','2 vs 5']\n",
    "GO_enrichemnt_wide = GO_enrichemnt_wide.replace(np.nan, 1)\n",
    "sns.set(font_scale=1.2)\n",
    "g = sns.clustermap(GO_enrichemnt_wide, norm=LogNorm(), figsize = (18,40), cmap=\"viridis_r\",cbar_pos=(0.1, 0.8, 0.03, 0.1),\n",
    "                   row_cluster=True, col_cluster=False)\n",
    "plt.setp(g.ax_heatmap.get_xticklabels(), rotation=30)\n",
    "plt.savefig(f\"{output_path}/Enrichemnt_analysis_{gp_compare_type}_{gp_bayes_direction}_drugtargets.png\")\n"
   ]
  },
  {
   "cell_type": "markdown",
   "id": "c7ed41c8-2894-4e34-93aa-e4c23cec4930",
   "metadata": {},
   "source": [
    "## Enrichment of GWAS genes"
   ]
  },
  {
   "cell_type": "code",
   "execution_count": null,
   "id": "13980eb1-dd81-4fde-81e4-1df375aeb746",
   "metadata": {},
   "outputs": [],
   "source": [
    "from IPython.display import display\n",
    "\n",
    "GO_enrichemnt = list()\n",
    "for comparison_pair in Top_GPs_summary['comparison_pair'].unique():\n",
    "    print(comparison_pair)\n",
    "    \n",
    "    original_string = ''  \n",
    "    df_subset = Top_GPs_summary[Top_GPs_summary['comparison_pair'] == comparison_pair]\n",
    "    df_subset.reset_index(drop=True, inplace=True)\n",
    "    for index, row in df_subset.iterrows():\n",
    "        original_string = original_string + df_subset['gp_source_genes'][0]\n",
    "        original_string = original_string + df_subset['gp_target_genes'][0]\n",
    "    #string_list = re.findall(r\"'(.*?)'\", original_string)\n",
    "    string_list = list(set(re.findall(r\"'(.*?)'\", original_string)))  # Convert to set to remove duplicates\n",
    "    print(string_list)\n",
    "    \n",
    "    enr_KEEG = gp.enrichr(gene_list=string_list,\n",
    "                          gene_sets=['GWAS_Catalog_2023','UK_Biobank_GWAS_v1'],#'GO_Biological_Process_2023','MSigDB_Hallmark_2020','KEGG_2021_Human'\n",
    "                          organism='Human').results\n",
    "    #'Reactome_2022', KEGG_2021_Human IDG_Drug_Targets_2022' 'MSigDB_Hallmark_2020','MSigDB_Oncogenic_Signatures', 'Metabolomics_Workbench_Metabolites_2022',\n",
    "\n",
    "    summary = enr_KEEG[enr_KEEG['Adjusted P-value'] < 0.05][['Term', 'Adjusted P-value','Gene_set','Overlap','Genes']]\n",
    "    summary['comparison_pair'] = comparison_pair\n",
    "    \n",
    "    GO_enrichemnt.append(summary)\n",
    "\n",
    "GO_enrichemnt = pd.concat(GO_enrichemnt)\n",
    "\n",
    "# remove duplicate terms\n",
    "GO_enrichemnt= GO_enrichemnt[GO_enrichemnt['Adjusted P-value'] < 0.05]\n",
    "GO_enrichemnt = GO_enrichemnt.sort_values(by=['comparison_pair', 'Adjusted P-value'], ascending=[True, True])\n",
    "GO_enrichemnt = GO_enrichemnt.drop_duplicates(subset='Term', keep='first')  # Keep the first occurrence of each unique value in 'term'\n",
    "GO_enrichemnt.reset_index(drop=True, inplace=True)\n",
    "\n",
    "GO_enrichemnt_top = GO_enrichemnt.groupby('comparison_pair').head(Top_n_ptw)\n",
    "GO_enrichemnt_top.reset_index(drop=True, inplace=True)\n",
    "\n",
    "GO_enrichemnt.to_csv(f\"{output_path}/Enrichment_{gp_compare_type}_{gp_bayes_direction}_GWAS.csv\", index = False)\n",
    "GO_enrichemnt_top.to_csv(f\"{output_path}/Enrichment_{gp_compare_type}_top{Top_n_ptw}pathway_{gp_bayes_direction}_GWAS.csv\", index = False)\n",
    "\n",
    "GO_enrichemnt_top_wide = GO_enrichemnt_top.pivot(index='Term', columns='comparison_pair', values='Adjusted P-value')\n",
    "if gp_compare_type == '1to1':\n",
    "    GO_enrichemnt_top_wide = GO_enrichemnt_top_wide.reindex(columns=['1 vs 5','1 vs 2','1 vs 0','1 vs 4','1 vs 3'])\n",
    "GO_enrichemnt_top_wide = GO_enrichemnt_top_wide.replace(np.nan, 1)\n",
    "GO_enrichemnt_top_wide\n",
    "sns.set(font_scale=1.2)\n",
    "g = sns.clustermap(GO_enrichemnt_top_wide, norm=LogNorm(), figsize = (10,15), cmap=\"viridis_r\",\n",
    "                   row_cluster=True, col_cluster=False\n",
    "                  )\n",
    "plt.setp(g.ax_heatmap.get_xticklabels(), rotation=30)\n",
    "plt.savefig(f\"{output_path}/Enrichemnt analysis_{gp_compare_type}_top{Top_n_ptw}{gp_bayes_direction}_GWAS.png\")\n",
    "\n",
    "GO_enrichemnt_wide = GO_enrichemnt.pivot(index='Term', columns='comparison_pair', values='Adjusted P-value')\n",
    "if gp_compare_type == '1to1':\n",
    "    GO_enrichemnt_wide = GO_enrichemnt_wide.reindex(columns=['1 vs 5','1 vs 2','1 vs 0','1 vs 4','1 vs 3'])\n",
    "GO_enrichemnt_wide = GO_enrichemnt_wide.replace(np.nan, 1)\n",
    "sns.set(font_scale=1.2)\n",
    "g = sns.clustermap(GO_enrichemnt_wide, norm=LogNorm(), figsize = (18,30), cmap=\"viridis_r\",cbar_pos=(0.1, 0.8, 0.03, 0.1),\n",
    "                   row_cluster=True, col_cluster=False)\n",
    "plt.setp(g.ax_heatmap.get_xticklabels(), rotation=30)\n",
    "plt.savefig(f\"{output_path}/Enrichemnt_analysis_{gp_compare_type}_{gp_bayes_direction}_GWAS.png\")\n"
   ]
  },
  {
   "cell_type": "code",
   "execution_count": null,
   "id": "42370ef0-568e-44e9-b5bf-741d941026b9",
   "metadata": {},
   "outputs": [],
   "source": []
  },
  {
   "cell_type": "markdown",
   "id": "55136e93-3a3f-4ffa-a9a3-0c13a3359e53",
   "metadata": {},
   "source": [
    "## Enrichment of Metabolomics"
   ]
  },
  {
   "cell_type": "code",
   "execution_count": null,
   "id": "f8f9b98e-7faa-4cc5-8d36-da817c385395",
   "metadata": {},
   "outputs": [],
   "source": [
    "#'GWAS_Catalog_2023','UK_Biobank_GWAS_v1','GO_Biological_Process_2023', 'MSigDB_Hallmark_2020','Reactome_2022', KEGG_2021_Human IDG_Drug_Targets_2022'  'MSigDB_Oncogenic_Signatures',  'HMDB_Metabolites','Metabolomics_Workbench_Metabolites_2022',"
   ]
  },
  {
   "cell_type": "code",
   "execution_count": null,
   "id": "c8b48836-7734-476e-a277-b172061bd271",
   "metadata": {},
   "outputs": [],
   "source": [
    "from IPython.display import display\n",
    "\n",
    "GO_enrichemnt = list()\n",
    "for comparison_pair in Top_GPs_summary['comparison_pair'].unique():\n",
    "    print(comparison_pair)\n",
    "    \n",
    "    original_string = ''  \n",
    "    df_subset = Top_GPs_summary[Top_GPs_summary['comparison_pair'] == comparison_pair]\n",
    "    df_subset.reset_index(drop=True, inplace=True)\n",
    "    for index, row in df_subset.iterrows():\n",
    "        original_string = original_string + df_subset['gp_source_genes'][0]\n",
    "        original_string = original_string + df_subset['gp_target_genes'][0]\n",
    "    #string_list = re.findall(r\"'(.*?)'\", original_string)\n",
    "    string_list = list(set(re.findall(r\"'(.*?)'\", original_string)))  # Convert to set to remove duplicates\n",
    "    print(string_list)\n",
    "    \n",
    "    enr_KEEG = gp.enrichr(gene_list=string_list,\n",
    "                          gene_sets=['Metabolomics_Workbench_Metabolites_2022'],#'GO_Biological_Process_2023','MSigDB_Hallmark_2020','KEGG_2021_Human'\n",
    "                          organism='Human').results\n",
    "    #'Reactome_2022', KEGG_2021_Human IDG_Drug_Targets_2022' 'MSigDB_Hallmark_2020','MSigDB_Oncogenic_Signatures', 'Metabolomics_Workbench_Metabolites_2022',\n",
    "\n",
    "    summary = enr_KEEG[enr_KEEG['Adjusted P-value'] < 0.05][['Term', 'Adjusted P-value','Gene_set','Overlap','Genes']]\n",
    "    summary['comparison_pair'] = comparison_pair\n",
    "    \n",
    "    GO_enrichemnt.append(summary)\n",
    "\n",
    "\n",
    "GO_enrichemnt = pd.concat(GO_enrichemnt)\n",
    "\n",
    "# remove duplicate terms\n",
    "GO_enrichemnt= GO_enrichemnt[GO_enrichemnt['Adjusted P-value'] < 0.05]\n",
    "GO_enrichemnt = GO_enrichemnt.sort_values(by=['comparison_pair', 'Adjusted P-value'], ascending=[True, True])\n",
    "GO_enrichemnt = GO_enrichemnt.drop_duplicates(subset='Term', keep='first')  # Keep the first occurrence of each unique value in 'term'\n",
    "GO_enrichemnt.reset_index(drop=True, inplace=True)\n",
    "\n",
    "GO_enrichemnt_top = GO_enrichemnt.groupby('comparison_pair').head(Top_n_ptw)\n",
    "GO_enrichemnt_top.reset_index(drop=True, inplace=True)\n",
    "\n",
    "GO_enrichemnt.to_csv(f\"{output_path}/Enrichment_{gp_compare_type}_{gp_bayes_direction}_metabo.csv\", index = False)\n",
    "GO_enrichemnt_top.to_csv(f\"{output_path}/Enrichment_{gp_compare_type}_top{Top_n_ptw}pathway_{gp_bayes_direction}_metabo.csv\", index = False)\n",
    "\n",
    "GO_enrichemnt_top_wide = GO_enrichemnt_top.pivot(index='Term', columns='comparison_pair', values='Adjusted P-value')\n",
    "if gp_compare_type == '1to1':\n",
    "    GO_enrichemnt_top_wide = GO_enrichemnt_top_wide.reindex(columns=['1 vs 5','1 vs 2','1 vs 0','1 vs 4','1 vs 3'])\n",
    "GO_enrichemnt_top_wide = GO_enrichemnt_top_wide.replace(np.nan, 1)\n",
    "GO_enrichemnt_top_wide\n",
    "sns.set(font_scale=1.2)\n",
    "g = sns.clustermap(GO_enrichemnt_top_wide, norm=LogNorm(), figsize = (10,15), cmap=\"viridis_r\",\n",
    "                   row_cluster=True, col_cluster=False\n",
    "                  )\n",
    "plt.setp(g.ax_heatmap.get_xticklabels(), rotation=30)\n",
    "plt.savefig(f\"{output_path}/Enrichemnt analysis_{gp_compare_type}_top{Top_n_ptw}{gp_bayes_direction}_metabo.png\")\n",
    "\n",
    "GO_enrichemnt_wide = GO_enrichemnt.pivot(index='Term', columns='comparison_pair', values='Adjusted P-value')\n",
    "if gp_compare_type == '1to1':\n",
    "    GO_enrichemnt_wide = GO_enrichemnt_wide.reindex(columns=['1 vs 5','1 vs 2','1 vs 0','1 vs 4','1 vs 3'])\n",
    "GO_enrichemnt_wide = GO_enrichemnt_wide.replace(np.nan, 1)\n",
    "sns.set(font_scale=1.2)\n",
    "g = sns.clustermap(GO_enrichemnt_wide, norm=LogNorm(), figsize = (18,30), cmap=\"viridis_r\",cbar_pos=(0.1, 0.8, 0.03, 0.1),\n",
    "                   row_cluster=True, col_cluster=False)\n",
    "plt.setp(g.ax_heatmap.get_xticklabels(), rotation=30)\n",
    "plt.savefig(f\"{output_path}/Enrichemnt_analysis_{gp_compare_type}_{gp_bayes_direction}_metabo.png\")\n"
   ]
  },
  {
   "cell_type": "code",
   "execution_count": null,
   "id": "e2bff9d9-f2a8-47fd-a8ad-ab37c88c398a",
   "metadata": {},
   "outputs": [],
   "source": []
  },
  {
   "cell_type": "code",
   "execution_count": null,
   "id": "e51d81b5-2956-402f-b5c7-63c8e4cd7dbd",
   "metadata": {},
   "outputs": [],
   "source": []
  },
  {
   "cell_type": "code",
   "execution_count": null,
   "id": "1aa1b222-0f97-414e-9aaa-2c446716a9c3",
   "metadata": {},
   "outputs": [],
   "source": []
  },
  {
   "cell_type": "code",
   "execution_count": null,
   "id": "e9633652-694c-4bc3-96c1-dbe3a97e752d",
   "metadata": {},
   "outputs": [],
   "source": []
  },
  {
   "cell_type": "code",
   "execution_count": null,
   "id": "35ecdaa7-8043-40c2-ace1-994572cf24c3",
   "metadata": {},
   "outputs": [],
   "source": []
  },
  {
   "cell_type": "code",
   "execution_count": null,
   "id": "d5df3963-88c4-466f-b70a-82c48ef0193e",
   "metadata": {},
   "outputs": [],
   "source": []
  }
 ],
 "metadata": {
  "kernelspec": {
   "display_name": "Python 3 (ipykernel)",
   "language": "python",
   "name": "python3"
  },
  "language_info": {
   "codemirror_mode": {
    "name": "ipython",
    "version": 3
   },
   "file_extension": ".py",
   "mimetype": "text/x-python",
   "name": "python",
   "nbconvert_exporter": "python",
   "pygments_lexer": "ipython3",
   "version": "3.9.18"
  }
 },
 "nbformat": 4,
 "nbformat_minor": 5
}
