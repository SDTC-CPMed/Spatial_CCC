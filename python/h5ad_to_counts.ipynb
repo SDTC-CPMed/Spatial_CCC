{
 "cells": [
  {
   "cell_type": "code",
   "execution_count": null,
   "id": "d0cec78f-3939-4c38-b719-eb65b43f7aa5",
   "metadata": {},
   "outputs": [],
   "source": [
    "import scanpy as sc\n",
    "import pandas as pd"
   ]
  },
  {
   "cell_type": "code",
   "execution_count": null,
   "id": "c859aa62-e6c8-4244-ab92-25a735105de0",
   "metadata": {},
   "outputs": [],
   "source": [
    "input_path = 'hest_data/st/'\n",
    "output_path = 'hest_data/counts/'\n",
    "for sample in ['MEND59', 'MEND60', 'MEND61', 'MEND62', 'MEND139', 'MEND140', 'MEND141', 'MEND142', 'MEND143', 'MEND144', 'MEND145', 'MEND146',\n",
    "                'MEND147', 'MEND148', 'MEND149', 'MEND150', 'MEND151', 'MEND152', 'MEND153', 'MEND154', 'MEND156', 'MEND157', 'MEND158',\n",
    "                'MEND159', 'MEND160', 'MEND161', 'MEND162', 'TENX41', 'TENX46', 'INT25', 'INT26', 'INT27', 'INT28', 'INT35']:\n",
    "    print(sample)\n",
    "    adata = sc.read_h5ad(input_path + sample + '.h5ad')\n",
    "    counts = pd.DataFrame(data=adata.X.todense(), index=adata.obs_names, columns=adata.var_names)\n",
    "    counts.astype(int).to_csv(output_path + sample + '.csv', header = True, index = True)"
   ]
  },
  {
   "cell_type": "code",
   "execution_count": null,
   "id": "7fdc20cb-b4f1-4c43-9bbe-ec792f1d7e27",
   "metadata": {},
   "outputs": [],
   "source": []
  }
 ],
 "metadata": {
  "kernelspec": {
   "display_name": "Python 3 (ipykernel)",
   "language": "python",
   "name": "python3"
  },
  "language_info": {
   "codemirror_mode": {
    "name": "ipython",
    "version": 3
   },
   "file_extension": ".py",
   "mimetype": "text/x-python",
   "name": "python",
   "nbconvert_exporter": "python",
   "pygments_lexer": "ipython3",
   "version": "3.8.19"
  }
 },
 "nbformat": 4,
 "nbformat_minor": 5
}
