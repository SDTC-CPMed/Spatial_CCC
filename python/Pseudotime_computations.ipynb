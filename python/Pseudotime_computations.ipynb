{
 "cells": [
  {
   "cell_type": "code",
   "execution_count": 1,
   "id": "48805a34-9476-40c0-b51d-a75dbedd0e77",
   "metadata": {},
   "outputs": [
    {
     "name": "stderr",
     "output_type": "stream",
     "text": [
      "C:\\Users\\masmel\\AppData\\Local\\anaconda3\\envs\\stlearn2\\lib\\site-packages\\numpy\\_distributor_init.py:30: UserWarning: loaded more than 1 DLL from .libs:\n",
      "C:\\Users\\masmel\\AppData\\Local\\anaconda3\\envs\\stlearn2\\lib\\site-packages\\numpy\\.libs\\libopenblas.EL2C6PLE4ZYW3ECEVIV3OXXGRN2NRFM2.gfortran-win_amd64.dll\n",
      "C:\\Users\\masmel\\AppData\\Local\\anaconda3\\envs\\stlearn2\\lib\\site-packages\\numpy\\.libs\\libopenblas.GK7GX5KEQ4F6UYO3P26ULGBQYHGQO7J4.gfortran-win_amd64.dll\n",
      "  warnings.warn(\"loaded more than 1 DLL from .libs:\"\n",
      "C:\\Users\\masmel\\AppData\\Local\\anaconda3\\envs\\stlearn2\\lib\\site-packages\\stlearn\\tools\\microenv\\cci\\het.py:192: NumbaDeprecationWarning: \u001b[1mThe keyword argument 'nopython=False' was supplied. From Numba 0.59.0 the default is being changed to True and use of 'nopython=False' will raise a warning as the argument will have no effect. See https://numba.readthedocs.io/en/stable/reference/deprecation.html#deprecation-of-object-mode-fall-back-behaviour-when-using-jit for details.\u001b[0m\n",
      "  @jit(parallel=True, nopython=False)\n"
     ]
    }
   ],
   "source": [
    "import stlearn as st\n",
    "import scanpy as sc\n",
    "import pandas as pd\n",
    "import re\n",
    "import numpy as np\n",
    "\n",
    "from collections import Counter\n",
    "from scipy.sparse import csr_matrix\n",
    "import anndata as ad\n",
    "import seaborn as sns\n",
    "import harmonypy as hm\n",
    "from matplotlib import pyplot as plt\n",
    "from stlearn.spatials.clustering import localization\n",
    "\n",
    "import gseapy as gp\n",
    "from matplotlib.colors import LogNorm\n",
    "\n",
    "\n",
    "plt.rcParams['figure.figsize'] = [6, 6]"
   ]
  },
  {
   "cell_type": "markdown",
   "id": "607dbc14-85a2-439f-ae07-ea170e7f079f",
   "metadata": {},
   "source": [
    "# Helping functions "
   ]
  },
  {
   "cell_type": "code",
   "execution_count": 2,
   "id": "d606e3d2-2eaf-4d07-90bb-a77cc63916c7",
   "metadata": {
    "jupyter": {
     "source_hidden": true
    }
   },
   "outputs": [],
   "source": [
    "\"\"\"\n",
    "The whole chunk below is to fix the following issue:\n",
    "https://github.com/BiomedicalMachineLearning/stLearn/issues/243#issuecomment-1657823079\n",
    "\"\"\"\n",
    "\n",
    "from matplotlib import pyplot as plt\n",
    "from PIL import Image\n",
    "import pandas as pd\n",
    "import matplotlib\n",
    "import numpy as np\n",
    "import networkx as nx\n",
    "import random\n",
    "from stlearn._compat import Literal\n",
    "from typing import Optional, Union\n",
    "from anndata import AnnData\n",
    "import warnings\n",
    "import io\n",
    "from copy import deepcopy\n",
    "from stlearn.utils import _read_graph\n",
    "\n",
    "\n",
    "\n",
    "def tree_plot_new(\n",
    "    adata: AnnData,\n",
    "    library_id: str = None,\n",
    "    figsize: Union[float, int] = (10, 4),\n",
    "    data_alpha: float = 1.0,\n",
    "    use_label: str = \"louvain\",\n",
    "    spot_size: Union[float, int] = 50,\n",
    "    fontsize: int = 6,\n",
    "    piesize: float = 0.15,\n",
    "    zoom: float = 0.1,\n",
    "    name: str = None,\n",
    "    output: str = None,\n",
    "    dpi: int = 180,\n",
    "    show_all: bool = False,\n",
    "    show_plot: bool = True,\n",
    "    copy: bool = False,\n",
    ") -> Optional[AnnData]:\n",
    "\n",
    "    \n",
    "    \"\"\"\\\n",
    "    Hierarchical tree plot represent for the global spatial trajectory inference.\n",
    "\n",
    "    Parameters\n",
    "    ----------\n",
    "    adata\n",
    "        Annotated data matrix.\n",
    "    library_id\n",
    "        Library id stored in AnnData.\n",
    "    use_label\n",
    "        Use label result of cluster method.\n",
    "    figsize\n",
    "        Change figure size.\n",
    "    data_alpha\n",
    "        Opacity of the spot.\n",
    "    fontsize\n",
    "        Choose font size.\n",
    "    piesize\n",
    "        Choose the size of cropped image.\n",
    "    zoom\n",
    "        Choose zoom factor.\n",
    "    show_all\n",
    "        Show all cropped image or not.\n",
    "    show_legend\n",
    "        Show legend or not.\n",
    "    dpi\n",
    "        Set dpi as the resolution for the plot.\n",
    "    copy\n",
    "        Return a copy instead of writing to adata.\n",
    "    Returns\n",
    "    -------\n",
    "    Nothing\n",
    "    \"\"\"\n",
    "\n",
    "    G = _read_graph(adata, \"PTS_graph\")\n",
    "\n",
    "    if library_id is None:\n",
    "        library_id = list(adata.uns[\"spatial\"].keys())[0]\n",
    "\n",
    "    for node in G.nodes:\n",
    "        if node == 9999:\n",
    "            break\n",
    "        tmp_img = _generate_image_new(\n",
    "            adata,\n",
    "            library_id,\n",
    "            sub_cluster=node,\n",
    "            zoom=zoom,\n",
    "            spot_size=spot_size,\n",
    "            fontsize=fontsize,\n",
    "            show_all=show_all,\n",
    "            use_label=use_label,\n",
    "        )\n",
    "\n",
    "        G.nodes[node][\"image\"] = tmp_img\n",
    "\n",
    "    # plt.rcParams['figure.dpi'] = dpi\n",
    "    pos = hierarchy_pos_new(G, 9999)\n",
    "    fig = plt.figure(figsize=figsize)\n",
    "    a = plt.subplot(111)\n",
    "\n",
    "    a.axis(\"off\")\n",
    "    nx.draw_networkx_edges(\n",
    "        G,\n",
    "        pos,\n",
    "        ax=a,\n",
    "        arrowstyle=\"-\",\n",
    "        edge_color=\"#ADABAF\",\n",
    "        connectionstyle=\"angle3,angleA=0,angleB=90\",\n",
    "    )\n",
    "    trans = a.transData.transform\n",
    "    trans2 = fig.transFigure.inverted().transform\n",
    "\n",
    "    p2 = piesize / 2\n",
    "\n",
    "    for n in G:\n",
    "        if n == 9999:\n",
    "            xx, yy = trans(pos[n])  # figure coordinates\n",
    "            xa, ya = trans2((xx, yy))  # axes coordinates\n",
    "            a = plt.axes([xa - p2, ya - p2, piesize, piesize])\n",
    "            a.axis(\"off\")\n",
    "            a.text(\n",
    "                0.5,\n",
    "                0.9,\n",
    "                \"Pseudoroot\",\n",
    "                horizontalalignment=\"center\",\n",
    "                verticalalignment=\"center\",\n",
    "                transform=a.transAxes,\n",
    "                bbox=dict(facecolor=\"#F9F9F9\", boxstyle=\"round\", edgecolor=\"#D1D1D1\"),\n",
    "            )\n",
    "            break\n",
    "\n",
    "        xx, yy = trans(pos[n])  # figure coordinates\n",
    "        xa, ya = trans2((xx, yy))  # axes coordinates\n",
    "        a = plt.axes([xa - p2, ya - p2, piesize, piesize])\n",
    "\n",
    "        subset = adata.obs[adata.obs[\"sub_cluster_labels\"] == str(n)]\n",
    "        color = adata.uns[use_label + \"_colors\"][int(subset[use_label][0])]\n",
    "\n",
    "        a.text(\n",
    "            0.5,\n",
    "            1.2,\n",
    "            str(n),\n",
    "            horizontalalignment=\"center\",\n",
    "            verticalalignment=\"center\",\n",
    "            transform=a.transAxes,\n",
    "            color=\"black\",\n",
    "            fontsize=fontsize,\n",
    "            zorder=3,\n",
    "            bbox=dict(facecolor=color, boxstyle=\"round\"),\n",
    "        )\n",
    "        # a.set_aspect('equal')\n",
    "        a.axis(\"off\")\n",
    "        a.imshow(G.nodes[n][\"image\"])\n",
    "        # plt.rcParams.update(plt.rcParamsDefault)\n",
    "\n",
    "    if name is None:\n",
    "        name = use_label\n",
    "\n",
    "    if output is not None:\n",
    "        fig.savefig(output + \"/\" + name, dpi=dpi, bbox_inches=\"tight\", pad_inches=0)\n",
    "\n",
    "    if show_plot == True:\n",
    "        plt.show()\n",
    "\n",
    "def _generate_image_new(\n",
    "    adata,\n",
    "    library_id,\n",
    "    sub_cluster,\n",
    "    zoom=10,\n",
    "    spot_size=100,\n",
    "    fontsize=6,\n",
    "    dpi=96,\n",
    "    use_label=\"louvain\",\n",
    "    data_alpha=1,\n",
    "    show_all=False,\n",
    "):\n",
    "\n",
    "    # plt.rcParams['axes.linewidth'] = 4\n",
    "\n",
    "    # plt.rcParams['axes.edgecolor'] = \"#D1D1D1\"\n",
    "\n",
    "    subset = adata.obs[adata.obs[\"sub_cluster_labels\"] == str(sub_cluster)]\n",
    "    base = subset[[\"imagecol\", \"imagerow\"]].values\n",
    "    if len(base) < 25:\n",
    "        zoom = zoom * 20\n",
    "        spot_size = spot_size * 3\n",
    "    elif len(base) > 2000:\n",
    "        zoom = zoom / 4\n",
    "        spot_size = spot_size / 5\n",
    "    x = base[:, 0]\n",
    "    y = base[:, 1]\n",
    "    # plt.rcParams['figure.dpi'] = 300\n",
    "\n",
    "    fig2, ax2 = plt.subplots()\n",
    "\n",
    "    for axis in [\"top\", \"bottom\", \"left\", \"right\"]:\n",
    "        ax2.spines[axis].set_linewidth(0.5)\n",
    "        ax2.spines[axis].set_color(\"#D1D1D1\")\n",
    "\n",
    "    color = adata.uns[use_label + \"_colors\"][int(subset[use_label][0])]\n",
    "\n",
    "    image = adata.uns[\"spatial\"][library_id][\"images\"][\n",
    "        adata.uns[\"spatial\"][library_id][\"use_quality\"]\n",
    "    ]\n",
    "\n",
    "    ax2.imshow(image, alpha=1)\n",
    "    ax2.scatter(x, y, s=spot_size, alpha=data_alpha, edgecolor=\"none\", c=color)\n",
    "\n",
    "    # ax2.axis('off')\n",
    "    ax2.get_xaxis().set_ticks([])\n",
    "    ax2.get_yaxis().set_ticks([])\n",
    "\n",
    "    try:\n",
    "        ptp_bound = np.array(base).ptp(axis=0)\n",
    "    except:\n",
    "        print(base)\n",
    "\n",
    "    m = 0\n",
    "    n = 0\n",
    "    if np.abs((y.min() - ptp_bound[1] * zoom) - (y.max() + ptp_bound[1] * zoom)) < 50:\n",
    "        m = m + 50\n",
    "    elif np.abs((x.min() - ptp_bound[1] * zoom) - (x.max() + ptp_bound[1] * zoom)) < 50:\n",
    "        n = n + 50\n",
    "    ax2.set_xlim(x.min() - ptp_bound[0] * zoom - n, x.max() + ptp_bound[0] * zoom - n)\n",
    "\n",
    "    ax2.set_ylim(y.min() - ptp_bound[1] * zoom - m, y.max() + ptp_bound[1] * zoom + m)\n",
    "\n",
    "    plt.gca().invert_yaxis()\n",
    "    if show_all:\n",
    "        plt.show()\n",
    "    buf = io.BytesIO()\n",
    "    fig2.savefig(\n",
    "        buf,\n",
    "        format=\"png\",\n",
    "        dpi=dpi,\n",
    "        transparent=True,\n",
    "        bbox_inches=\"tight\",\n",
    "        pad_inches=0.1,\n",
    "    )\n",
    "    buf.seek(0)\n",
    "    pil_img = deepcopy(Image.open(buf))\n",
    "    plt.close(fig2)\n",
    "    return pil_img\n",
    "\n",
    "def hierarchy_pos_new(G, root=None, width=1.0, vert_gap=0.2, vert_loc=0, xcenter=0.5):\n",
    "\n",
    "    \"\"\"\n",
    "    From Joel's answer at https://stackoverflow.com/a/29597209/2966723.\n",
    "    Licensed under Creative Commons Attribution-Share Alike\n",
    "\n",
    "    If the graph is a tree this will return the positions to plot this in a\n",
    "    hierarchical layout.\n",
    "\n",
    "    G: the graph (must be a tree)\n",
    "\n",
    "    root: the root node of current branch\n",
    "    - if the tree is directed and this is not given,\n",
    "      the root will be found and used\n",
    "    - if the tree is directed and this is given, then\n",
    "      the positions will be just for the descendants of this node.\n",
    "    - if the tree is undirected and not given,\n",
    "      then a random choice will be used.\n",
    "\n",
    "    width: horizontal space allocated for this branch - avoids overlap with other branches\n",
    "\n",
    "    vert_gap: gap between levels of hierarchy\n",
    "\n",
    "    vert_loc: vertical location of root\n",
    "\n",
    "    xcenter: horizontal location of root\n",
    "    \"\"\"\n",
    "    if not nx.is_tree(G):\n",
    "        raise TypeError(\"cannot use hierarchy_pos_new on a graph that is not a tree\")\n",
    "\n",
    "    if root is None:\n",
    "        if isinstance(G, nx.DiGraph):\n",
    "            root = next(\n",
    "                iter(nx.topological_sort(G))\n",
    "            )  # allows back compatibility with nx version 1.11\n",
    "        else:\n",
    "            root = random.choice(list(G.nodes))\n",
    "\n",
    "    def _hierarchy_pos_new(\n",
    "        G, root, width=1.0, vert_gap=0.2, vert_loc=0, xcenter=0.5, pos=None, parent=None\n",
    "    ):\n",
    "        \"\"\"\n",
    "        see hierarchy_pos_new docstring for most arguments\n",
    "\n",
    "        pos: a dict saying where all nodes go if they have been assigned\n",
    "        parent: parent of this branch. - only affects it if non-directed\n",
    "\n",
    "        \"\"\"\n",
    "\n",
    "        if pos is None:\n",
    "            pos = {root: (xcenter, vert_loc)}\n",
    "        else:\n",
    "            pos[root] = (xcenter, vert_loc)\n",
    "        children = list(G.neighbors(root))\n",
    "        if not isinstance(G, nx.DiGraph) and parent is not None:\n",
    "            children.remove(parent)\n",
    "        if len(children) != 0:\n",
    "            dx = width / len(children)\n",
    "            nextx = xcenter - width / 2 - dx / 2\n",
    "            for child in children:\n",
    "                nextx += dx\n",
    "                pos = _hierarchy_pos_new(\n",
    "                    G,\n",
    "                    child,\n",
    "                    width=dx,\n",
    "                    vert_gap=vert_gap,\n",
    "                    vert_loc=vert_loc - vert_gap,\n",
    "                    xcenter=nextx,\n",
    "                    pos=pos,\n",
    "                    parent=root,\n",
    "                )\n",
    "        return pos\n",
    "\n",
    "    return _hierarchy_pos_new(G, root, width, vert_gap, vert_loc, xcenter)\n",
    "\n",
    "\n"
   ]
  },
  {
   "cell_type": "code",
   "execution_count": 3,
   "id": "c0b76c06-1551-4f49-823a-3c7f6b9eda4f",
   "metadata": {
    "jupyter": {
     "source_hidden": true
    }
   },
   "outputs": [],
   "source": [
    "\"\"\"\n",
    "There are two bugs in their code that I found. replace_with_dict and selection_sort are just support functions that are needed to run the other\n",
    "two functions. Consider reporting this as a bug as it would clean my code and their code would actually be the same as they present in the paper\n",
    "\"\"\"\n",
    "\n",
    "def replace_with_dict(ar, dic):\n",
    "    # Extract out keys and values\n",
    "    k = np.array(list(dic.keys()), dtype=object)\n",
    "    v = np.array(list(dic.values()), dtype=object)\n",
    "\n",
    "    out = np.zeros_like(ar)\n",
    "    for key, val in zip(k, v):\n",
    "        out[ar == key] = val\n",
    "    return out\n",
    "    \n",
    "def selection_sort(x):\n",
    "    for i in range(len(x)):\n",
    "        swap = i + np.argmin(x[i:])\n",
    "        (x[i], x[swap]) = (x[swap], x[i])\n",
    "    return x\n",
    "\n",
    "def store_available_paths_new(adata, threshold, use_label, max_nodes, pseudotime_key):\n",
    "\n",
    "    \"\"\"\n",
    "    This function is originally incompatiple with their function pseudotimespace_global.\n",
    "    https://github.com/BiomedicalMachineLearning/stLearn/blob/master/stlearn/spatials/trajectory/global_level.py line 198 they use median.\n",
    "    Thus, I changed .max() to .median() in the first for loop.\n",
    "    \"\"\"\n",
    "    \n",
    "    # Read original PAGA graph\n",
    "    G = nx.from_numpy_array(adata.uns[\"paga\"][\"connectivities\"].toarray())\n",
    "    edge_weights = nx.get_edge_attributes(G, \"weight\")\n",
    "    G.remove_edges_from((e for e, w in edge_weights.items() if w < threshold))\n",
    "\n",
    "    H = G.to_directed()\n",
    "\n",
    "    # Calculate pseudotime for each node\n",
    "    node_pseudotime = {}\n",
    "\n",
    "    for node in H.nodes:\n",
    "        node_pseudotime[node] = adata.obs.query(use_label + \" == '\" + str(node) + \"'\")[\n",
    "            pseudotime_key\n",
    "        ].median() \n",
    "\n",
    "    # Force original PAGA to directed PAGA based on pseudotime\n",
    "    edge_to_remove = []\n",
    "    for edge in H.edges:\n",
    "        if node_pseudotime[edge[0]] - node_pseudotime[edge[1]] > 0:\n",
    "            edge_to_remove.append(edge)\n",
    "    H.remove_edges_from(edge_to_remove)\n",
    "\n",
    "    # Extract all available paths\n",
    "    all_paths = {}\n",
    "\n",
    "    for source in H.nodes:\n",
    "        for target in H.nodes:\n",
    "            paths = nx.all_simple_paths(H, source=source, target=target)\n",
    "            for i, path in enumerate(paths):\n",
    "                if len(path) < max_nodes:\n",
    "                    all_paths[str(i) + \"_\" + str(source) + \"_\" + str(target)] = path\n",
    "\n",
    "    adata.uns[\"available_paths\"] = all_paths\n",
    "    print(\n",
    "        \"All available trajectory paths are stored in adata.uns['available_paths'] with length < \"\n",
    "        + str(max_nodes)\n",
    "        + \" nodes\"\n",
    "    )\n",
    "\n",
    "    return(H)\n",
    "\n",
    "\n",
    "def pseudotime_new(\n",
    "    adata: AnnData,\n",
    "    use_label: str = None,\n",
    "    eps: float = 20,\n",
    "    threshold: float = 0.01,\n",
    "    threshold_spots: int = 5,\n",
    "    reverse: bool = False,\n",
    "    pseudotime_key: str = \"dpt_pseudotime\",\n",
    "    max_nodes: int = 4,\n",
    "    copy: bool = False,\n",
    ") -> Optional[AnnData]:\n",
    "\n",
    "    \"\"\"\\\n",
    "\n",
    "    They have a bug in processing the data. The functions localization, neighbors, paga and diffmap are run in incorrect order, eventually causing\n",
    "    that diffmap is not called properly. \n",
    "    https://github.com/BiomedicalMachineLearning/stLearn/blob/master/stlearn/spatials/trajectory/pseudotime.py\n",
    "\n",
    " \n",
    "    Perform pseudotime analysis.\n",
    "\n",
    "    Parameters\n",
    "    ----------\n",
    "    adata\n",
    "        Annotated data matrix.\n",
    "    use_label\n",
    "        Use label result of cluster method.\n",
    "    eps\n",
    "        The maximum distance between two samples for one to be considered as\n",
    "        in the neighborhood of the other. This is not a maximum bound on the\n",
    "        distances of points within a cluster. This is the most important DBSCAN\n",
    "        parameter to choose appropriately for your data set and distance function.\n",
    "    threshold\n",
    "        Threshold to find the significant connection for PAGA graph.\n",
    "    radius\n",
    "        radius to adjust data for diffusion map\n",
    "    method\n",
    "        method to adjust the data.\n",
    "    use_sme\n",
    "        Use adjusted feature by SME normalization or not\n",
    "    reverse\n",
    "        Reverse the pseudotime score\n",
    "    pseudotime_key\n",
    "        Key to store pseudotime\n",
    "    max_nodes\n",
    "        Maximum number of node in available paths\n",
    "    copy\n",
    "        Return a copy instead of writing to adata.\n",
    "    Returns\n",
    "    -------\n",
    "    Anndata\n",
    "    \"\"\"\n",
    "\n",
    "    # Get connection matrix\n",
    "    cnt_matrix = adata.uns[\"paga\"][\"connectivities\"].toarray()\n",
    "    \n",
    "    # Filter by threshold\n",
    "    \n",
    "    cnt_matrix[cnt_matrix < threshold] = 0.0\n",
    "    cnt_matrix = pd.DataFrame(cnt_matrix)\n",
    "    \n",
    "    # Mapping louvain label to subcluster\n",
    "    \n",
    "    #from stlearn.spatials.clustering import localization\n",
    "    \n",
    "    #localization(adata, use_label=use_label, eps=eps)\n",
    "    cat_ind = adata.uns[use_label + \"_index_dict\"]\n",
    "    \n",
    "    split_node = {}\n",
    "    for label in adata.obs[use_label].unique():\n",
    "        meaningful_sub = []\n",
    "        for i in adata.obs[adata.obs[use_label] == label][\n",
    "            \"sub_cluster_labels\"\n",
    "        ].unique():\n",
    "            if (\n",
    "                len(adata.obs[adata.obs[\"sub_cluster_labels\"] == str(i)])\n",
    "                > threshold_spots\n",
    "            ):\n",
    "                meaningful_sub.append(i)\n",
    "    \n",
    "        split_node[cat_ind[label]] = meaningful_sub\n",
    "    \n",
    "    adata.uns[\"threshold_spots\"] = threshold_spots\n",
    "    adata.uns[\"split_node\"] = split_node\n",
    "    \n",
    "    # Replicate louvain label row to prepare for subcluster connection\n",
    "    # matrix construction\n",
    "    replicate_list = np.array([])\n",
    "    for i in range(0, len(cnt_matrix)):\n",
    "        replicate_list = np.concatenate(\n",
    "            [replicate_list, np.array([i] * len(split_node[i]))]\n",
    "        )\n",
    "    \n",
    "    # Connection matrix for subcluster\n",
    "    cnt_matrix = cnt_matrix.loc[replicate_list.astype(int), replicate_list.astype(int)]\n",
    "    \n",
    "    # Replace column and index\n",
    "    cnt_matrix.columns = replace_with_dict(cnt_matrix.columns, split_node)\n",
    "    cnt_matrix.index = replace_with_dict(cnt_matrix.index, split_node)\n",
    "    \n",
    "    # Sort column and index\n",
    "    cnt_matrix = cnt_matrix.loc[\n",
    "        selection_sort(np.array(cnt_matrix.columns)),\n",
    "        selection_sort(np.array(cnt_matrix.index)),\n",
    "    ]\n",
    "    \n",
    "    # Create a connection graph of subclusters\n",
    "    G = nx.from_pandas_adjacency(cnt_matrix)\n",
    "    G_nodes = list(range(len(G.nodes)))\n",
    "    \n",
    "    node_convert = {}\n",
    "    for pair in zip(list(G.nodes), G_nodes):\n",
    "        node_convert[pair[1]] = pair[0]\n",
    "    \n",
    "    adata.uns[\"global_graph\"] = {}\n",
    "    adata.uns[\"global_graph\"][\"graph\"] = nx.to_scipy_sparse_array(G)\n",
    "    adata.uns[\"global_graph\"][\"node_dict\"] = node_convert\n",
    "    \n",
    "    # Create centroid dict for subclusters\n",
    "    from sklearn.neighbors import NearestCentroid\n",
    "    \n",
    "    clf = NearestCentroid()\n",
    "    clf.fit(adata.obs[[\"imagecol\", \"imagerow\"]].values, adata.obs[\"sub_cluster_labels\"])\n",
    "    centroid_dict = dict(zip(clf.classes_.astype(int), clf.centroids_))\n",
    "    \n",
    "    def closest_node(node, nodes):\n",
    "        nodes = np.asarray(nodes)\n",
    "        dist_2 = np.sum((nodes - node) ** 2, axis=1)\n",
    "        return np.argmin(dist_2)\n",
    "    \n",
    "    for cl in adata.obs[\"sub_cluster_labels\"].unique():\n",
    "        cl_points = adata.obs[adata.obs[\"sub_cluster_labels\"] == cl][\n",
    "            [\"imagecol\", \"imagerow\"]\n",
    "        ].values\n",
    "        new_centroid = cl_points[closest_node(centroid_dict[int(cl)], cl_points)]\n",
    "        centroid_dict[int(cl)] = new_centroid\n",
    "    \n",
    "    adata.uns[\"centroid_dict\"] = centroid_dict\n",
    "    centroid_dict = {int(key): centroid_dict[key] for key in centroid_dict}\n",
    "    \n",
    "    # Running diffusion pseudo-time\n",
    "    sc.tl.dpt(adata)\n",
    "    \n",
    "    if reverse:\n",
    "        adata.obs[pseudotime_key] = 1 - adata.obs[pseudotime_key]\n",
    "\n",
    "    H = store_available_paths_new(adata, threshold, use_label, max_nodes, pseudotime_key)\n",
    "    \n",
    "    \n",
    "    return H\n",
    "    \n",
    "    \n",
    " \n",
    "    \n",
    "\n",
    "\n",
    "\n"
   ]
  },
  {
   "cell_type": "code",
   "execution_count": 4,
   "id": "103c9f8d-154f-418f-8122-670dc9c9379d",
   "metadata": {
    "jupyter": {
     "source_hidden": true
    }
   },
   "outputs": [],
   "source": [
    "def apply_mapping(lst, mapping):\n",
    "    \"\"\" \n",
    "    Function to remap between the lst of subclusters to original clusters \n",
    "    \"\"\"\n",
    "    result = []\n",
    "    for item in lst:\n",
    "        for key, values in mapping.items():\n",
    "            if item in values:\n",
    "                result.append(key)\n",
    "                break\n",
    "    return result\n",
    "    \n",
    "#Support functions to run the code\n",
    "def path_importance(G, path):\n",
    "    \"\"\"\n",
    "    Compute the importance of a path as a minimum edge importance in the path through the PAGA graph\n",
    "    \"\"\"\n",
    "    # Initialize the importance as infinity\n",
    "    importance = float('inf')\n",
    "    # Iterate over the path\n",
    "    for i in range(len(path) - 1):\n",
    "        # Get the weight of the current edge\n",
    "        weight = G[path[i]][path[i+1]]['weight']\n",
    "        \n",
    "        # Update the importance if the current weight is smaller\n",
    "        if weight < importance:\n",
    "            importance = weight\n",
    "    \n",
    "    # Return the importance of the path\n",
    "    return importance\n",
    "\n",
    "\n",
    "def preprocess(adata, louvain_resolution):\n",
    "    \"\"\"\n",
    "    Preprocess the data. Be carefull about the order in which diffmap is called relative to other functions\n",
    "    \"\"\"\n",
    "    st.pp.filter_genes(adata,min_cells=3)\n",
    "    st.pp.normalize_total(adata)\n",
    "    st.pp.log1p(adata)\n",
    "    # Keep raw data\n",
    "    adata.raw = adata\n",
    "    st.pp.scale(adata)\n",
    "    \n",
    "    st.em.run_pca(adata,n_comps=50,random_state=0)\n",
    "    \n",
    "    sc.pp.neighbors(adata, use_rep=\"X_pca\", random_state=0)\n",
    "    \n",
    "    \n",
    "    sc.tl.diffmap(adata)\n",
    "    sc.pp.neighbors(adata, use_rep=\"X_diffmap\", random_state=0)\n",
    "    \n",
    "    \n",
    "    st.tl.clustering.louvain(adata,random_state=0, resolution = louvain_resolution)\n",
    "\n",
    "    return adata\n",
    "\n",
    "def rename_clusters(adata, obs_name, threshold):\n",
    "    \"\"\"\n",
    "    Rename the clusters to fix their bug that the clusters need to be called 0,1,2,3,...\n",
    "    \"\"\"\n",
    "    counts = adata.obs[obs_name].value_counts()\n",
    "    filtered_categories = counts[counts >= threshold].index\n",
    "    adata = adata[adata.obs[obs_name].isin(filtered_categories)]\n",
    "    \n",
    "    cats = np.array(adata.obs[obs_name].cat.categories)\n",
    "    rename = list(np.array(range(max(cats.astype(int))+1, max(cats.astype(int)) + len(cats) + 1 )).astype(str))\n",
    "    adata.obs[obs_name] = adata.obs[obs_name].replace(cats, rename)\n",
    "    cats = np.array(adata.obs[obs_name].cat.categories)\n",
    "    rename = list(np.array(range(len(cats))).astype(str))\n",
    "    adata.obs[obs_name] = adata.obs[obs_name].replace(cats, rename)\n",
    "    \n",
    "    return adata\n",
    "\n",
    "def find_reasonable_paths(G):\n",
    "    \"\"\"\n",
    "    Find all paths that start at 9999 and end on the leave of the tree plot\n",
    "    Find nodes with out-degree of zero, which are leaves in a directed graph\n",
    "    \"\"\"\n",
    "    leaves = [node for node in G.nodes() if G.out_degree(node) == 0]\n",
    "\n",
    "    # Find all paths from each leave\n",
    "    all_paths = []\n",
    "    for node in leaves:\n",
    "        paths = nx.single_target_shortest_path(G, node)[9999]\n",
    "        paths = [str(i) for i in paths] # Change to string\n",
    "        all_paths.extend([paths])\n",
    "\n",
    "    return all_paths\n",
    "\n",
    "def find_longest_paths(adata): \n",
    "    \"\"\"\n",
    "    Filter only those paths that correspond to the longest possible, \n",
    "    e.g. with two paths 0-1-2-3 and 0-1-2; I would only keep 0-1-2-3 as the latter is only subset of it\n",
    "    We need this function as find_reasonable_paths is called for every cluster combination and thus\n",
    "    leaves in one scenarion might correspond to the second last layer in the longer path\n",
    "    \"\"\"\n",
    "    # Identify the longest paths\n",
    "    longest_paths = adata.uns[\"available_paths\"].copy()\n",
    "    for key1, list1 in adata.uns[\"available_paths\"].items():\n",
    "        for key2, list2 in adata.uns[\"available_paths\"].items():\n",
    "            if list1 != list2 and any(list1 == list2[i:i+len(list1)] for i in range(len(list2) - len(list1) + 1)):\n",
    "                if key1 in longest_paths:\n",
    "                    del longest_paths[key1]\n",
    "                    \n",
    "            if list1 != list2 and any(list1 == list2[1:i] for i in range(len(list2) - len(list1) + 1)):\n",
    "                if key1 in longest_paths:\n",
    "                    del longest_paths[key1]\n",
    "    \n",
    "    return(longest_paths)\n",
    "\n",
    "def summarize_branch(adata, use_label, H):\n",
    "    \"\"\" \n",
    "    This is for the plot purposes, we summarize the branch by getting the counts of each subclone for every branch\n",
    "    \"\"\"\n",
    "    correlated_genes = list()\n",
    "\n",
    "    branch_keys = list(filter(lambda x: x.startswith('branch'), adata.uns))\n",
    "    branch_keys = [branch for branch in branch_keys if len(branch.split('_')) > 3]\n",
    "    cats = list(use_label + '_' + np.array(adata.obs[use_label].cat.categories))\n",
    "    #branch_summary = pd.DataFrame(index = branch_keys, columns = ['path_length', 'importance', 'pseudotime'] + cats)\n",
    "    branch_summary = pd.DataFrame(index = branch_keys, columns = ['path_length', 'importance'] + cats)\n",
    "    \n",
    "    for branch in branch_keys:\n",
    "        \n",
    "        subclusters = branch.split('_')[1:]\n",
    "    \n",
    "        path = apply_mapping(subclusters[1:], adata.uns['split_node'])\n",
    "        branch_summary['path_length'][branch] = len(path)\n",
    "        branch_summary['importance'][branch] = path_importance(H, path)\n",
    "        #branch_summary['pseudotime'][branch] = adata.obs['dpt_pseudotime'][adata.obs['sub_cluster_labels'].isin(subclusters)]\n",
    "\n",
    "        subclusters_counts = adata.obs[use_label][adata.obs['sub_cluster_labels'].isin(subclusters)].value_counts()\n",
    "        subclusters_counts = {category: count for category, count in subclusters_counts.items()}\n",
    "        # Convert to string\n",
    "        for cat in adata.obs[use_label].cat.categories:\n",
    "            branch_summary[use_label + '_' + cat][branch] = subclusters_counts[cat]\n",
    "\n",
    "    return branch_summary\n",
    "\n",
    "\n",
    "def enrichment_analysis(adata, gene_set):\n",
    "    \"\"\"\n",
    "    Enchichment analysis for each branch in adata\n",
    "    \"\"\"\n",
    "    import gseapy as gp\n",
    "    names = gp.get_library_name()\n",
    "    BG_genes = adata.var_names\n",
    "    #branch_keys = [key for key in adata.uns.keys() if key.startswith('branch')]\n",
    "    branch_keys = list(filter(lambda x: x.startswith('branch'), adata.uns))\n",
    "    branch_keys = [branch for branch in branch_keys if len(branch.split('_')) > 3]\n",
    "    \n",
    "    \n",
    "    from IPython.display import display\n",
    "    import ast\n",
    "    \n",
    "    pathway_enrichment = {}\n",
    "    \n",
    "    for score_dir in ['up' ,'down', 'abs']:\n",
    "        print(score_dir)\n",
    "    \n",
    "        GO_enrichemnt = list()\n",
    "    \n",
    "        for branch in branch_keys:\n",
    "            print(branch)\n",
    "        \n",
    "        #for score_dir in ['up' ,'down']: #Top_GPs_summary['comparison_pair'].unique() ['GG4 Cribriform vs Reference', 'GG4 Cribriform vs Benign']\n",
    "            subclusters = branch.split('_')[1:]\n",
    "            \n",
    "            Gene_programs_trajectory = adata.uns[branch]\n",
    "            \n",
    "            # Extract top N GPs from each comparison\n",
    "            Gene_programs_trajectory['abs_score'] = Gene_programs_trajectory['score'].abs()\n",
    "            if score_dir == 'up':\n",
    "                temp = Gene_programs_trajectory[Gene_programs_trajectory['score'] > 0]\n",
    "                Gene_programs_trajectory_sorted = temp.sort_values(by='abs_score', ascending=False)\n",
    "            elif score_dir == 'down':\n",
    "                temp = Gene_programs_trajectory[Gene_programs_trajectory['score'] < 0]\n",
    "                Gene_programs_trajectory_sorted = temp.sort_values(by='abs_score', ascending=False)\n",
    "            elif score_dir == 'abs':\n",
    "                Gene_programs_trajectory_sorted = Gene_programs_trajectory.sort_values(by='abs_score', ascending=False)\n",
    "                \n",
    "            \n",
    "            string_list = Gene_programs_trajectory_sorted['gene'].tolist()\n",
    "                \n",
    "            if len(string_list) > 0:\n",
    "    \n",
    "                # run enrichment\n",
    "                enr_KEEG = gp.enrichr(gene_list=string_list,\n",
    "                                          gene_sets=gene_set,\n",
    "                                          #background=BG_genes,\n",
    "                                          organism='Human').results\n",
    "                summary = enr_KEEG[enr_KEEG['Adjusted P-value'] < 0.05][['Term','Odds Ratio','P-value', 'Adjusted P-value','Gene_set','Genes']]\n",
    "            \n",
    "                summary['brach'] = branch\n",
    "            \n",
    "                #summary = enr_KEEG[enr_KEEG['Adjusted P-value'] < 0.05][['Term', 'Adjusted P-value','Gene_set','Overlap','Genes']]\n",
    "                #summary\n",
    "                GO_enrichemnt.append(summary)\n",
    "        GO_enrichemnt\n",
    "        \n",
    "        \n",
    "        GO_enrichemnt = pd.concat(GO_enrichemnt)\n",
    "        GO_enrichemnt = GO_enrichemnt.sort_values(by=['Adjusted P-value'], ascending=[True])\n",
    "        #GO_enrichemnt = GO_enrichemnt.drop_duplicates(subset='Term', keep='first')  # Keep the first occurrence of each unique value in 'term'\n",
    "        GO_enrichemnt.reset_index(drop=True, inplace=True)\n",
    "        \n",
    "        #GO_enrichemnt.to_csv(f\"{output_path}/CNVgene_{gene_list_from}_enrichment_{enriched_gs}.csv\", index = False)\n",
    "        GO_enrichemnt\n",
    "        \n",
    "        #plot\n",
    "        import seaborn as sns\n",
    "        from matplotlib.colors import LogNorm\n",
    "        #GO_enrichemnt_top = GO_enrichemnt.groupby('brach')\n",
    "        \n",
    "        GO_enrichemnt_top = GO_enrichemnt[GO_enrichemnt['Adjusted P-value'] < 0.05]\n",
    "        \n",
    "        GO_enrichemnt_top.reset_index(drop=True, inplace=True)\n",
    "        \n",
    "        GO_enrichemnt_top_wide_pathways = GO_enrichemnt_top.pivot(index='Term', columns='brach', values='Adjusted P-value')\n",
    "        GO_enrichemnt_top_wide_pathways = GO_enrichemnt_top_wide_pathways.replace(np.nan, 1)\n",
    "        \n",
    "        pathway_enrichment[score_dir] = GO_enrichemnt_top_wide_pathways\n",
    "\n",
    "    return(pathway_enrichment)"
   ]
  },
  {
   "cell_type": "markdown",
   "id": "fdd7d6c7-ff23-4925-aa4f-745b3a04511f",
   "metadata": {},
   "source": [
    "# Main script"
   ]
  },
  {
   "cell_type": "code",
   "execution_count": 5,
   "id": "43bea562-b9eb-42f1-850a-2aa037a61130",
   "metadata": {},
   "outputs": [],
   "source": [
    "threshold_spots = 20\n",
    "paga_threshold = 0.05\n",
    "eps = 30\n",
    "sample = 'MEND160'\n",
    "beta = '1'\n",
    "\n",
    "use_label = 'CNV_clusters'\n",
    "input_path = 'hest_data/st/'"
   ]
  },
  {
   "cell_type": "code",
   "execution_count": 6,
   "id": "3e50610c-756d-4512-980c-4bf582bdf5e8",
   "metadata": {},
   "outputs": [
    {
     "name": "stderr",
     "output_type": "stream",
     "text": [
      "C:\\Users\\masmel\\AppData\\Local\\Temp\\ipykernel_37416\\3093573775.py:4: SettingWithCopyWarning: \n",
      "A value is trying to be set on a copy of a slice from a DataFrame\n",
      "\n",
      "See the caveats in the documentation: https://pandas.pydata.org/pandas-docs/stable/user_guide/indexing.html#returning-a-view-versus-a-copy\n",
      "  CNV['subclone'][CNV['class'] == 'normal'] = 0\n",
      "C:\\Users\\masmel\\AppData\\Local\\Temp\\ipykernel_37416\\3093573775.py:8: ImplicitModificationWarning: Trying to modify attribute `.obs` of view, initializing view as actual.\n",
      "  adata.obs[use_label] = (adata.obs[use_label]).astype(int).astype('string').astype('object').astype('category')\n"
     ]
    }
   ],
   "source": [
    "adata = sc.read_h5ad(input_path + sample + '.h5ad')\n",
    "\n",
    "CNV = pd.read_csv('hest_data/CNVs/' + sample + '_' + beta + '_CNV_test_withReference.csv', index_col = 0)\n",
    "CNV['subclone'][CNV['class'] == 'normal'] = 0\n",
    "adata.obs[use_label] = CNV['subclone']\n",
    "\n",
    "adata = adata[~adata.obs[use_label].isna()]\n",
    "adata.obs[use_label] = (adata.obs[use_label]).astype(int).astype('string').astype('object').astype('category')"
   ]
  },
  {
   "cell_type": "code",
   "execution_count": 7,
   "id": "e075ca1a-3d15-41e2-9a54-aebfc62cb56c",
   "metadata": {},
   "outputs": [
    {
     "name": "stdout",
     "output_type": "stream",
     "text": [
      "Normalization step is finished in adata.X\n",
      "Log transformation step is finished in adata.X\n",
      "Scale step is finished in adata.X\n",
      "PCA is done! Generated in adata.obsm['X_pca'], adata.uns['pca'] and adata.varm['PCs']\n"
     ]
    },
    {
     "name": "stderr",
     "output_type": "stream",
     "text": [
      "C:\\Users\\masmel\\AppData\\Local\\anaconda3\\envs\\stlearn2\\lib\\site-packages\\tqdm\\auto.py:21: TqdmWarning: IProgress not found. Please update jupyter and ipywidgets. See https://ipywidgets.readthedocs.io/en/stable/user_install.html\n",
      "  from .autonotebook import tqdm as notebook_tqdm\n"
     ]
    },
    {
     "name": "stdout",
     "output_type": "stream",
     "text": [
      "Applying Louvain cluster ...\n",
      "Louvain cluster is done! The labels are stored in adata.obs['louvain']\n"
     ]
    },
    {
     "name": "stderr",
     "output_type": "stream",
     "text": [
      "C:\\Users\\masmel\\AppData\\Local\\Temp\\ipykernel_37416\\2848372105.py:67: ImplicitModificationWarning: Trying to modify attribute `.obs` of view, initializing view as actual.\n",
      "  adata.obs[obs_name] = adata.obs[obs_name].replace(cats, rename)\n",
      "C:\\Users\\masmel\\AppData\\Local\\Temp\\ipykernel_37416\\2848372105.py:67: ImplicitModificationWarning: Trying to modify attribute `.obs` of view, initializing view as actual.\n",
      "  adata.obs[obs_name] = adata.obs[obs_name].replace(cats, rename)\n"
     ]
    }
   ],
   "source": [
    "adata.layers['counts']=adata.X.copy()\n",
    "\n",
    "adata = st.convert_scanpy(adata, use_quality = 'downscaled_fullres').copy()\n",
    "\n",
    "adata = preprocess(adata, louvain_resolution = 1)\n",
    "localization(adata, use_label=use_label, eps=eps)\n",
    "adata = rename_clusters(adata, 'sub_cluster_labels', threshold = threshold_spots)\n",
    "adata = rename_clusters(adata, use_label, threshold = 0)"
   ]
  },
  {
   "cell_type": "code",
   "execution_count": null,
   "id": "0f5e11e2-ce4f-4619-8f0b-70f331826919",
   "metadata": {},
   "outputs": [],
   "source": []
  },
  {
   "cell_type": "code",
   "execution_count": 8,
   "id": "22a48bac-ca56-4dfa-bde2-9806e2e86317",
   "metadata": {},
   "outputs": [],
   "source": [
    "root_cluster = '0'"
   ]
  },
  {
   "cell_type": "code",
   "execution_count": 9,
   "id": "ef323be2-501b-428b-b190-3ba0f8e056a6",
   "metadata": {},
   "outputs": [
    {
     "name": "stdout",
     "output_type": "stream",
     "text": [
      "WARNING: Package 'fa2' is not installed, falling back to layout 'fr'.To use the faster and better ForceAtlas2 layout, install package 'fa2' (`pip install fa2`).\n"
     ]
    },
    {
     "name": "stderr",
     "output_type": "stream",
     "text": [
      "C:\\Users\\masmel\\AppData\\Local\\anaconda3\\envs\\stlearn2\\lib\\site-packages\\stlearn\\spatials\\trajectory\\set_root.py:40: ImplicitModificationWarning: Trying to modify attribute `.var` of view, initializing view as actual.\n",
      "  tmp_adata.var[\"gene_corr\"] = gene_corr\n"
     ]
    },
    {
     "name": "stdout",
     "output_type": "stream",
     "text": [
      "All available trajectory paths are stored in adata.uns['available_paths'] with length < 7 nodes\n"
     ]
    },
    {
     "data": {
      "image/png": "[encoded data removed]",
      "text/plain": [
       "<Figure size 619.28x600 with 1 Axes>"
      ]
     },
     "metadata": {},
     "output_type": "display_data"
    }
   ],
   "source": [
    "sc.tl.paga(adata, groups=use_label)\n",
    "sc.pl.paga(adata, threshold=paga_threshold, show=False)\n",
    "sc.tl.draw_graph(adata, init_pos=\"paga\")\n",
    "\n",
    "max_nodes = len(adata.obs[use_label].unique())\n",
    "\n",
    "adata.uns[\"iroot\"] = st.spatial.trajectory.set_root(adata,use_label=use_label,cluster=root_cluster)\n",
    "\n",
    "H = pseudotime_new(adata, eps=eps, use_label = use_label, threshold = paga_threshold,\n",
    "            reverse = False, max_nodes = max_nodes, threshold_spots = threshold_spots)\n",
    "    "
   ]
  },
  {
   "cell_type": "code",
   "execution_count": 10,
   "id": "344840a8-d27d-4f64-b697-6c8e01efb121",
   "metadata": {},
   "outputs": [
    {
     "name": "stdout",
     "output_type": "stream",
     "text": [
      "0_3_5\n",
      "Screening PTS global graph...\n"
     ]
    },
    {
     "name": "stderr",
     "output_type": "stream",
     "text": [
      "Screening: 100%|██████████ [ time left: 00:00 ]\n"
     ]
    },
    {
     "name": "stdout",
     "output_type": "stream",
     "text": [
      "Calculate the graph dissimilarity using Laplacian matrix...\n"
     ]
    },
    {
     "name": "stderr",
     "output_type": "stream",
     "text": [
      "Calculating: 100%|██████████ [ time left: 00:00 ]\n"
     ]
    },
    {
     "name": "stdout",
     "output_type": "stream",
     "text": [
      "The optimized weighting is: 0.3\n",
      "Start to construct the trajectory: 3 -> 0 -> 2 -> 5\n"
     ]
    },
    {
     "data": {
      "image/png": "[encoded data removed]",
      "text/plain": [
       "<Figure size 1500x300 with 10 Axes>"
      ]
     },
     "metadata": {},
     "output_type": "display_data"
    },
    {
     "name": "stdout",
     "output_type": "stream",
     "text": [
      "Detecting the transition markers of branch_9999_2_1_7_6\n",
      "Transition markers result is stored in adata.uns['branch_9999_2_1_7_6']\n",
      "Detecting the transition markers of branch_9999_2_1_4_8\n",
      "Transition markers result is stored in adata.uns['branch_9999_2_1_4_8']\n",
      "Detecting the transition markers of branch_9999_9\n",
      "Transition markers result is stored in adata.uns['branch_9999_9']\n",
      "Detecting the transition markers of branch_9999_2_1_11\n",
      "Transition markers result is stored in adata.uns['branch_9999_2_1_11']\n",
      "1_3_5\n",
      "Screening PTS global graph...\n"
     ]
    },
    {
     "name": "stderr",
     "output_type": "stream",
     "text": [
      "Screening: 100%|██████████ [ time left: 00:00 ]\n"
     ]
    },
    {
     "name": "stdout",
     "output_type": "stream",
     "text": [
      "Calculate the graph dissimilarity using Laplacian matrix...\n"
     ]
    },
    {
     "name": "stderr",
     "output_type": "stream",
     "text": [
      "Calculating: 100%|██████████ [ time left: 00:00 ]\n"
     ]
    },
    {
     "name": "stdout",
     "output_type": "stream",
     "text": [
      "The optimized weighting is: 0.5\n",
      "Start to construct the trajectory: 3 -> 0 -> 5\n"
     ]
    },
    {
     "data": {
      "image/png": "[encoded data removed]",
      "text/plain": [
       "<Figure size 1500x300 with 7 Axes>"
      ]
     },
     "metadata": {},
     "output_type": "display_data"
    },
    {
     "name": "stdout",
     "output_type": "stream",
     "text": [
      "Detecting the transition markers of branch_9999_2_1_6\n",
      "Transition markers result is stored in adata.uns['branch_9999_2_1_6']\n",
      "Detecting the transition markers of branch_9999_2_1_8\n",
      "Transition markers result is stored in adata.uns['branch_9999_2_1_8']\n",
      "Detecting the transition markers of branch_9999_9\n",
      "Transition markers result is stored in adata.uns['branch_9999_9']\n",
      "2_3_5\n",
      "Screening PTS global graph...\n"
     ]
    },
    {
     "name": "stderr",
     "output_type": "stream",
     "text": [
      "Screening: 100%|██████████ [ time left: 00:00 ]\n"
     ]
    },
    {
     "name": "stdout",
     "output_type": "stream",
     "text": [
      "Calculate the graph dissimilarity using Laplacian matrix...\n"
     ]
    },
    {
     "name": "stderr",
     "output_type": "stream",
     "text": [
      "Calculating: 100%|██████████ [ time left: 00:00 ]\n"
     ]
    },
    {
     "name": "stdout",
     "output_type": "stream",
     "text": [
      "The optimized weighting is: 0.4\n",
      "Start to construct the trajectory: 3 -> 2 -> 5\n"
     ]
    },
    {
     "data": {
      "image/png": "[encoded data removed]",
      "text/plain": [
       "<Figure size 1500x300 with 9 Axes>"
      ]
     },
     "metadata": {},
     "output_type": "display_data"
    },
    {
     "name": "stdout",
     "output_type": "stream",
     "text": [
      "Detecting the transition markers of branch_9999_2_4_6\n",
      "Transition markers result is stored in adata.uns['branch_9999_2_4_6']\n",
      "Detecting the transition markers of branch_9999_2_7\n",
      "Transition markers result is stored in adata.uns['branch_9999_2_7']\n",
      "Detecting the transition markers of branch_9999_2_4_8\n",
      "Transition markers result is stored in adata.uns['branch_9999_2_4_8']\n",
      "Detecting the transition markers of branch_9999_9\n",
      "Transition markers result is stored in adata.uns['branch_9999_9']\n",
      "Detecting the transition markers of branch_9999_2_11\n",
      "Transition markers result is stored in adata.uns['branch_9999_2_11']\n",
      "3_3_5\n",
      "Screening PTS global graph...\n"
     ]
    },
    {
     "name": "stderr",
     "output_type": "stream",
     "text": [
      "Screening: 100%|██████████ [ time left: 00:00 ]\n"
     ]
    },
    {
     "name": "stdout",
     "output_type": "stream",
     "text": [
      "Calculate the graph dissimilarity using Laplacian matrix...\n"
     ]
    },
    {
     "name": "stderr",
     "output_type": "stream",
     "text": [
      "Calculating: 100%|██████████ [ time left: 00:00 ]\n"
     ]
    },
    {
     "name": "stdout",
     "output_type": "stream",
     "text": [
      "The optimized weighting is: 0.9\n",
      "Start to construct the trajectory: 3 -> 5\n"
     ]
    },
    {
     "data": {
      "image/png": "[encoded data removed]",
      "text/plain": [
       "<Figure size 1500x300 with 6 Axes>"
      ]
     },
     "metadata": {},
     "output_type": "display_data"
    },
    {
     "name": "stdout",
     "output_type": "stream",
     "text": [
      "Detecting the transition markers of branch_9999_9_8\n",
      "Transition markers result is stored in adata.uns['branch_9999_9_8']\n",
      "Detecting the transition markers of branch_9999_2_6\n",
      "Transition markers result is stored in adata.uns['branch_9999_2_6']\n",
      "0_3_6\n",
      "Screening PTS global graph...\n"
     ]
    },
    {
     "name": "stderr",
     "output_type": "stream",
     "text": [
      "Screening: 100%|██████████ [ time left: 00:00 ]\n"
     ]
    },
    {
     "name": "stdout",
     "output_type": "stream",
     "text": [
      "Calculate the graph dissimilarity using Laplacian matrix...\n"
     ]
    },
    {
     "name": "stderr",
     "output_type": "stream",
     "text": [
      "Calculating: 100%|██████████ [ time left: 00:00 ]\n"
     ]
    },
    {
     "name": "stdout",
     "output_type": "stream",
     "text": [
      "The optimized weighting is: 0.5\n",
      "Start to construct the trajectory: 3 -> 0 -> 2 -> 1 -> 4 -> 6\n"
     ]
    },
    {
     "data": {
      "image/png": "[encoded data removed]",
      "text/plain": [
       "<Figure size 1500x300 with 12 Axes>"
      ]
     },
     "metadata": {},
     "output_type": "display_data"
    },
    {
     "name": "stdout",
     "output_type": "stream",
     "text": [
      "Detecting the transition markers of branch_9999_2_1_4_5_3\n",
      "Transition markers result is stored in adata.uns['branch_9999_2_1_4_5_3']\n",
      "Detecting the transition markers of branch_9999_2_1_7\n",
      "Transition markers result is stored in adata.uns['branch_9999_2_1_7']\n",
      "Detecting the transition markers of branch_9999_9\n",
      "Transition markers result is stored in adata.uns['branch_9999_9']\n",
      "Detecting the transition markers of branch_9999_2_1_4_5_0_10\n",
      "Transition markers result is stored in adata.uns['branch_9999_2_1_4_5_0_10']\n",
      "Detecting the transition markers of branch_9999_2_1_11\n",
      "Transition markers result is stored in adata.uns['branch_9999_2_1_11']\n",
      "1_3_6\n",
      "Screening PTS global graph...\n"
     ]
    },
    {
     "name": "stderr",
     "output_type": "stream",
     "text": [
      "Screening: 100%|██████████ [ time left: 00:00 ]\n"
     ]
    },
    {
     "name": "stdout",
     "output_type": "stream",
     "text": [
      "Calculate the graph dissimilarity using Laplacian matrix...\n"
     ]
    },
    {
     "name": "stderr",
     "output_type": "stream",
     "text": [
      "Calculating: 100%|██████████ [ time left: 00:00 ]\n"
     ]
    },
    {
     "name": "stdout",
     "output_type": "stream",
     "text": [
      "The optimized weighting is: 0.6\n",
      "Start to construct the trajectory: 3 -> 0 -> 2 -> 4 -> 6\n"
     ]
    },
    {
     "data": {
      "image/png": "[encoded data removed]",
      "text/plain": [
       "<Figure size 1500x300 with 11 Axes>"
      ]
     },
     "metadata": {},
     "output_type": "display_data"
    },
    {
     "name": "stdout",
     "output_type": "stream",
     "text": [
      "Detecting the transition markers of branch_9999_2_1_11_3\n",
      "Transition markers result is stored in adata.uns['branch_9999_2_1_11_3']\n",
      "Detecting the transition markers of branch_9999_2_1_4\n",
      "Transition markers result is stored in adata.uns['branch_9999_2_1_4']\n",
      "Detecting the transition markers of branch_9999_2_1_7\n",
      "Transition markers result is stored in adata.uns['branch_9999_2_1_7']\n",
      "Detecting the transition markers of branch_9999_9\n",
      "Transition markers result is stored in adata.uns['branch_9999_9']\n",
      "Detecting the transition markers of branch_9999_2_1_11_0_10\n",
      "Transition markers result is stored in adata.uns['branch_9999_2_1_11_0_10']\n",
      "2_3_6\n",
      "Screening PTS global graph...\n"
     ]
    },
    {
     "name": "stderr",
     "output_type": "stream",
     "text": [
      "Screening: 100%|██████████ [ time left: 00:00 ]\n"
     ]
    },
    {
     "name": "stdout",
     "output_type": "stream",
     "text": [
      "Calculate the graph dissimilarity using Laplacian matrix...\n"
     ]
    },
    {
     "name": "stderr",
     "output_type": "stream",
     "text": [
      "Calculating: 100%|██████████ [ time left: 00:00 ]\n"
     ]
    },
    {
     "name": "stdout",
     "output_type": "stream",
     "text": [
      "The optimized weighting is: 0.5\n",
      "Start to construct the trajectory: 3 -> 0 -> 2 -> 6\n"
     ]
    },
    {
     "data": {
      "image/png": "[encoded data removed]",
      "text/plain": [
       "<Figure size 1500x300 with 9 Axes>"
      ]
     },
     "metadata": {},
     "output_type": "display_data"
    },
    {
     "name": "stdout",
     "output_type": "stream",
     "text": [
      "Detecting the transition markers of branch_9999_2_1_4\n",
      "Transition markers result is stored in adata.uns['branch_9999_2_1_4']\n",
      "Detecting the transition markers of branch_9999_2_1_7\n",
      "Transition markers result is stored in adata.uns['branch_9999_2_1_7']\n",
      "Detecting the transition markers of branch_9999_9\n",
      "Transition markers result is stored in adata.uns['branch_9999_9']\n",
      "Detecting the transition markers of branch_9999_2_1_11_10\n",
      "Transition markers result is stored in adata.uns['branch_9999_2_1_11_10']\n",
      "3_3_6\n",
      "Screening PTS global graph...\n"
     ]
    },
    {
     "name": "stderr",
     "output_type": "stream",
     "text": [
      "Screening: 100%|██████████ [ time left: 00:00 ]\n"
     ]
    },
    {
     "name": "stdout",
     "output_type": "stream",
     "text": [
      "Calculate the graph dissimilarity using Laplacian matrix...\n"
     ]
    },
    {
     "name": "stderr",
     "output_type": "stream",
     "text": [
      "Calculating: 100%|██████████ [ time left: 00:00 ]\n"
     ]
    },
    {
     "name": "stdout",
     "output_type": "stream",
     "text": [
      "The optimized weighting is: 0.5\n",
      "Start to construct the trajectory: 3 -> 1 -> 4 -> 6\n"
     ]
    },
    {
     "data": {
      "image/png": "[encoded data removed]",
      "text/plain": [
       "<Figure size 1500x300 with 8 Axes>"
      ]
     },
     "metadata": {},
     "output_type": "display_data"
    },
    {
     "name": "stdout",
     "output_type": "stream",
     "text": [
      "Detecting the transition markers of branch_9999_2_5_3\n",
      "Transition markers result is stored in adata.uns['branch_9999_2_5_3']\n",
      "Detecting the transition markers of branch_9999_9\n",
      "Transition markers result is stored in adata.uns['branch_9999_9']\n",
      "Detecting the transition markers of branch_9999_2_5_0_10\n",
      "Transition markers result is stored in adata.uns['branch_9999_2_5_0_10']\n",
      "4_3_6\n",
      "Screening PTS global graph...\n"
     ]
    },
    {
     "name": "stderr",
     "output_type": "stream",
     "text": [
      "Screening: 100%|██████████ [ time left: 00:00 ]\n"
     ]
    },
    {
     "name": "stdout",
     "output_type": "stream",
     "text": [
      "Calculate the graph dissimilarity using Laplacian matrix...\n"
     ]
    },
    {
     "name": "stderr",
     "output_type": "stream",
     "text": [
      "Calculating: 100%|██████████ [ time left: 00:00 ]\n"
     ]
    },
    {
     "name": "stdout",
     "output_type": "stream",
     "text": [
      "The optimized weighting is: 0.6\n",
      "Start to construct the trajectory: 3 -> 2 -> 1 -> 4 -> 6\n"
     ]
    },
    {
     "data": {
      "image/png": "[encoded data removed]",
      "text/plain": [
       "<Figure size 1500x300 with 11 Axes>"
      ]
     },
     "metadata": {},
     "output_type": "display_data"
    },
    {
     "name": "stdout",
     "output_type": "stream",
     "text": [
      "Detecting the transition markers of branch_9999_2_4_5_3\n",
      "Transition markers result is stored in adata.uns['branch_9999_2_4_5_3']\n",
      "Detecting the transition markers of branch_9999_2_7\n",
      "Transition markers result is stored in adata.uns['branch_9999_2_7']\n",
      "Detecting the transition markers of branch_9999_9\n",
      "Transition markers result is stored in adata.uns['branch_9999_9']\n",
      "Detecting the transition markers of branch_9999_2_4_5_0_10\n",
      "Transition markers result is stored in adata.uns['branch_9999_2_4_5_0_10']\n",
      "Detecting the transition markers of branch_9999_2_11\n",
      "Transition markers result is stored in adata.uns['branch_9999_2_11']\n",
      "5_3_6\n",
      "Screening PTS global graph...\n"
     ]
    },
    {
     "name": "stderr",
     "output_type": "stream",
     "text": [
      "Screening: 100%|██████████ [ time left: 00:00 ]\n"
     ]
    },
    {
     "name": "stdout",
     "output_type": "stream",
     "text": [
      "Calculate the graph dissimilarity using Laplacian matrix...\n"
     ]
    },
    {
     "name": "stderr",
     "output_type": "stream",
     "text": [
      "Calculating: 100%|██████████ [ time left: 00:00 ]\n"
     ]
    },
    {
     "name": "stdout",
     "output_type": "stream",
     "text": [
      "The optimized weighting is: 0.5\n",
      "Start to construct the trajectory: 3 -> 2 -> 4 -> 6\n"
     ]
    },
    {
     "data": {
      "image/png": "[encoded data removed]",
      "text/plain": [
       "<Figure size 1500x300 with 10 Axes>"
      ]
     },
     "metadata": {},
     "output_type": "display_data"
    },
    {
     "name": "stdout",
     "output_type": "stream",
     "text": [
      "Detecting the transition markers of branch_9999_2_4_3\n",
      "Transition markers result is stored in adata.uns['branch_9999_2_4_3']\n",
      "Detecting the transition markers of branch_9999_2_7\n",
      "Transition markers result is stored in adata.uns['branch_9999_2_7']\n",
      "Detecting the transition markers of branch_9999_9\n",
      "Transition markers result is stored in adata.uns['branch_9999_9']\n",
      "Detecting the transition markers of branch_9999_2_11_0_10\n",
      "Transition markers result is stored in adata.uns['branch_9999_2_11_0_10']\n",
      "6_3_6\n",
      "Screening PTS global graph...\n"
     ]
    },
    {
     "name": "stderr",
     "output_type": "stream",
     "text": [
      "Screening: 100%|██████████ [ time left: 00:00 ]\n"
     ]
    },
    {
     "name": "stdout",
     "output_type": "stream",
     "text": [
      "Calculate the graph dissimilarity using Laplacian matrix...\n"
     ]
    },
    {
     "name": "stderr",
     "output_type": "stream",
     "text": [
      "Calculating: 100%|██████████ [ time left: 00:00 ]\n"
     ]
    },
    {
     "name": "stdout",
     "output_type": "stream",
     "text": [
      "The optimized weighting is: 0.5\n",
      "Start to construct the trajectory: 3 -> 2 -> 6\n"
     ]
    },
    {
     "data": {
      "image/png": "[encoded data removed]",
      "text/plain": [
       "<Figure size 1500x300 with 8 Axes>"
      ]
     },
     "metadata": {},
     "output_type": "display_data"
    },
    {
     "name": "stdout",
     "output_type": "stream",
     "text": [
      "Detecting the transition markers of branch_9999_2_4\n",
      "Transition markers result is stored in adata.uns['branch_9999_2_4']\n",
      "Detecting the transition markers of branch_9999_2_7\n",
      "Transition markers result is stored in adata.uns['branch_9999_2_7']\n",
      "Detecting the transition markers of branch_9999_9\n",
      "Transition markers result is stored in adata.uns['branch_9999_9']\n",
      "Detecting the transition markers of branch_9999_2_11_10\n",
      "Transition markers result is stored in adata.uns['branch_9999_2_11_10']\n"
     ]
    }
   ],
   "source": [
    "longest_paths = find_longest_paths(adata)\n",
    "\n",
    "for longest_path in longest_paths:\n",
    "\n",
    "    print(longest_path)\n",
    "    \n",
    "    st.spatial.trajectory.pseudotimespace_global(adata,\n",
    "                                                 use_label=use_label,\n",
    "                                                 list_clusters=list(map(str, longest_paths[longest_path])),\n",
    "                                                 use_rep = 'X_diffmap',\n",
    "                                                 k = 10,\n",
    "                                                 step = 0.1,\n",
    "                                                 model = 'mixed')\n",
    "    \n",
    "        \n",
    "    \n",
    "    tree_plot_new(adata,piesize = 0, use_label = use_label, figsize = (15, 3), fontsize=8)\n",
    "        \n",
    "    G = _read_graph(adata, \"PTS_graph\")\n",
    "    \n",
    "    # Find and print all longest paths\n",
    "    reasonable_paths = find_reasonable_paths(G)\n",
    "    \n",
    "    for path in reasonable_paths:\n",
    "    \n",
    "    \n",
    "        st.spatial.trajectory.detect_transition_markers_branches(adata,branch=path,use_raw_count=False)"
   ]
  },
  {
   "cell_type": "code",
   "execution_count": 11,
   "id": "66e545d8-8d82-42f7-9170-3b3afc7c4007",
   "metadata": {},
   "outputs": [],
   "source": [
    "branch_summary = summarize_branch(adata, use_label, H)"
   ]
  },
  {
   "cell_type": "code",
   "execution_count": 12,
   "id": "ddc5f78b-d641-4b4f-ab41-03da3ea59a51",
   "metadata": {},
   "outputs": [
    {
     "name": "stdout",
     "output_type": "stream",
     "text": [
      "up\n",
      "branch_9999_2_1_7_6\n",
      "branch_9999_2_1_4_8\n",
      "branch_9999_2_1_11\n",
      "branch_9999_2_1_6\n",
      "branch_9999_2_1_8\n",
      "branch_9999_2_4_6\n",
      "branch_9999_2_7\n",
      "branch_9999_2_4_8\n",
      "branch_9999_2_11\n",
      "branch_9999_9_8\n",
      "branch_9999_2_6\n",
      "branch_9999_2_1_4_5_3\n",
      "branch_9999_2_1_7\n",
      "branch_9999_2_1_4_5_0_10\n",
      "branch_9999_2_1_11_3\n",
      "branch_9999_2_1_4\n",
      "branch_9999_2_1_11_0_10\n",
      "branch_9999_2_1_11_10\n",
      "branch_9999_2_5_3\n",
      "branch_9999_2_5_0_10\n",
      "branch_9999_2_4_5_3\n",
      "branch_9999_2_4_5_0_10\n",
      "branch_9999_2_4_3\n",
      "branch_9999_2_11_0_10\n",
      "branch_9999_2_4\n",
      "branch_9999_2_11_10\n",
      "down\n",
      "branch_9999_2_1_7_6\n",
      "branch_9999_2_1_4_8\n",
      "branch_9999_2_1_11\n",
      "branch_9999_2_1_6\n",
      "branch_9999_2_1_8\n",
      "branch_9999_2_4_6\n",
      "branch_9999_2_7\n",
      "branch_9999_2_4_8\n",
      "branch_9999_2_11\n",
      "branch_9999_9_8\n",
      "branch_9999_2_6\n",
      "branch_9999_2_1_4_5_3\n",
      "branch_9999_2_1_7\n",
      "branch_9999_2_1_4_5_0_10\n",
      "branch_9999_2_1_11_3\n",
      "branch_9999_2_1_4\n",
      "branch_9999_2_1_11_0_10\n",
      "branch_9999_2_1_11_10\n",
      "branch_9999_2_5_3\n",
      "branch_9999_2_5_0_10\n",
      "branch_9999_2_4_5_3\n",
      "branch_9999_2_4_5_0_10\n",
      "branch_9999_2_4_3\n",
      "branch_9999_2_11_0_10\n",
      "branch_9999_2_4\n",
      "branch_9999_2_11_10\n",
      "abs\n",
      "branch_9999_2_1_7_6\n",
      "branch_9999_2_1_4_8\n",
      "branch_9999_2_1_11\n",
      "branch_9999_2_1_6\n",
      "branch_9999_2_1_8\n",
      "branch_9999_2_4_6\n",
      "branch_9999_2_7\n",
      "branch_9999_2_4_8\n",
      "branch_9999_2_11\n",
      "branch_9999_9_8\n",
      "branch_9999_2_6\n",
      "branch_9999_2_1_4_5_3\n",
      "branch_9999_2_1_7\n",
      "branch_9999_2_1_4_5_0_10\n",
      "branch_9999_2_1_11_3\n",
      "branch_9999_2_1_4\n",
      "branch_9999_2_1_11_0_10\n",
      "branch_9999_2_1_11_10\n",
      "branch_9999_2_5_3\n",
      "branch_9999_2_5_0_10\n",
      "branch_9999_2_4_5_3\n",
      "branch_9999_2_4_5_0_10\n",
      "branch_9999_2_4_3\n",
      "branch_9999_2_11_0_10\n",
      "branch_9999_2_4\n",
      "branch_9999_2_11_10\n"
     ]
    }
   ],
   "source": [
    "gene_set = 'MSigDB_Hallmark_2020' #['MSigDB_Hallmark_2020'] 'GO_Biological_Process_2023','MSigDB_Hallmark_2020','KEGG_2021_Human' \n",
    "pathway_enrichment = enrichment_analysis(adata, gene_set)"
   ]
  },
  {
   "cell_type": "code",
   "execution_count": null,
   "id": "f1741d35-ba50-499f-ab90-4555bfdcd60d",
   "metadata": {},
   "outputs": [],
   "source": []
  },
  {
   "cell_type": "code",
   "execution_count": 13,
   "id": "ab47a131-1a8d-479e-a272-14f7c6854b00",
   "metadata": {},
   "outputs": [],
   "source": [
    "del adata.uns['split_node']\n",
    "del adata.uns['global_graph']\n",
    "del adata.uns['centroid_dict']\n",
    "del adata.uns['PTS_graph']"
   ]
  },
  {
   "cell_type": "code",
   "execution_count": 14,
   "id": "24f5a0e1-a9ae-42f3-b0c4-a43321e77aa9",
   "metadata": {},
   "outputs": [],
   "source": [
    "adata.write_h5ad('hest_data/pseudotime/' + sample + '_pseudotime.h5ad')\n",
    "branch_summary.to_csv('hest_data/pseudotime/'+ sample + '_branch_summary.csv')"
   ]
  },
  {
   "cell_type": "code",
   "execution_count": null,
   "id": "49e53552-b13d-4791-8eb7-6c4adc37160b",
   "metadata": {},
   "outputs": [],
   "source": []
  },
  {
   "cell_type": "code",
   "execution_count": null,
   "id": "e603ce02-48ff-4728-8e40-8740c3cb032a",
   "metadata": {},
   "outputs": [],
   "source": []
  },
  {
   "cell_type": "markdown",
   "id": "a3b2e33b-0924-4a6f-b05e-0af1fdeeff0a",
   "metadata": {},
   "source": [
    "### Old code to create the arrow plot and enrichment for one specific branch. Should be used after pseudotime_new function"
   ]
  },
  {
   "cell_type": "code",
   "execution_count": null,
   "id": "b876ed55-1045-4c1c-be4c-d7e2d1e3b0a5",
   "metadata": {},
   "outputs": [],
   "source": [
    "\"\"\"\n",
    "list_clusters = ['3', '2', '1', '4', '6']\n",
    "\n",
    "st.spatial.trajectory.pseudotimespace_global(adata,use_label=\"CNV_clusters\",list_clusters=list_clusters,\n",
    "                                                     use_rep = 'X_diffmap',\n",
    "                                                     k = 10,\n",
    "                                                     step = 0.1,\n",
    "                                                     model = 'mixed')\n",
    "\n",
    "adata.uns['spatial']['ST']['images']['hires'] = adata.uns['spatial']['ST']['images']['downscaled_fullres']\n",
    "adata.uns['spatial']['ST']['scalefactors']['tissue_hires_scalef'] = adata.uns['spatial']['ST']['scalefactors']['tissue_downscaled_fullres_scalef']\n",
    "\n",
    "\n",
    "st.pl.cluster_plot(adata,use_label=\"CNV_clusters\",show_trajectories=True,list_clusters=None,show_subcluster=False)\n",
    "\n",
    "tree_plot_new(adata,piesize = 0, use_label = use_label, figsize = (15, 3), fontsize=8)\n",
    "\n",
    "st.spatial.trajectory.detect_transition_markers_branches(adata,branch=['9999', '2', '4', '5', '0', '10'],use_raw_count=False)\n",
    "\n",
    "\n",
    "adata.uns['branch_9999_2_4_5_0_10']\n",
    "string_list = adata.uns['branch_9999_2_4_5_0_10'][adata.uns['branch_9999_2_4_5_0_10']['score'] > 0]['gene'].tolist()\n",
    "enr_KEEG = gp.enrichr(gene_list=string_list,\n",
    "                      gene_sets=gene_set,\n",
    "                      #background=BG_genes,\n",
    "                      organism='Human').results\n",
    "summary = enr_KEEG[enr_KEEG['Adjusted P-value'] < 0.05][['Term','Odds Ratio','P-value', 'Adjusted P-value','Gene_set','Genes']]\n",
    "\n",
    "from gseapy import barplot, dotplot\n",
    "# categorical scatterplot\n",
    "ax = barplot(enr_KEEG,\n",
    "              column=\"Adjusted P-value\",\n",
    "              group='Gene_set', # set group, so you could do a multi-sample/library comparsion\n",
    "              size=10,\n",
    "              top_term=10,\n",
    "              figsize=(3,5),\n",
    "              #color=['darkred', 'darkblue'] # set colors for group\n",
    "              #color = {'KEGG_2021_Human': 'salmon', 'MSigDB_Hallmark_2020':'darkblue'},\n",
    "            title = 'positive association'\n",
    "             )\n",
    "\"\"\""
   ]
  },
  {
   "cell_type": "code",
   "execution_count": null,
   "id": "2f06202d-1990-4265-8456-b1dae750978b",
   "metadata": {},
   "outputs": [],
   "source": []
  },
  {
   "cell_type": "code",
   "execution_count": null,
   "id": "f592a246-222c-4bd1-b85a-891b415205e4",
   "metadata": {},
   "outputs": [],
   "source": []
  },
  {
   "cell_type": "code",
   "execution_count": null,
   "id": "45a608b0-80ba-460c-bb29-31f3332dfbc9",
   "metadata": {},
   "outputs": [],
   "source": []
  },
  {
   "cell_type": "code",
   "execution_count": null,
   "id": "207ecb04-822b-4940-b47b-0576c1330b04",
   "metadata": {},
   "outputs": [],
   "source": []
  },
  {
   "cell_type": "code",
   "execution_count": null,
   "id": "e46c40fd-adcb-4339-aaec-5a4cd2113f37",
   "metadata": {},
   "outputs": [],
   "source": []
  },
  {
   "cell_type": "code",
   "execution_count": null,
   "id": "6368cab6-09e5-41b9-b4f0-d8857d073def",
   "metadata": {},
   "outputs": [],
   "source": []
  },
  {
   "cell_type": "code",
   "execution_count": null,
   "id": "6d82b942-8952-4947-ae43-4d6b31f77e65",
   "metadata": {},
   "outputs": [],
   "source": []
  }
 ],
 "metadata": {
  "kernelspec": {
   "display_name": "Python 3 (ipykernel)",
   "language": "python",
   "name": "python3"
  },
  "language_info": {
   "codemirror_mode": {
    "name": "ipython",
    "version": 3
   },
   "file_extension": ".py",
   "mimetype": "text/x-python",
   "name": "python",
   "nbconvert_exporter": "python",
   "pygments_lexer": "ipython3",
   "version": "3.8.19"
  }
 },
 "nbformat": 4,
 "nbformat_minor": 5
}
